{
 "cells": [
  {
   "cell_type": "markdown",
   "id": "0b0d71f5",
   "metadata": {},
   "source": [
    "# Record audio"
   ]
  },
  {
   "cell_type": "code",
   "execution_count": null,
   "id": "36cdc3ee",
   "metadata": {},
   "outputs": [],
   "source": [
    "from ipywebrtc import AudioRecorder, CameraStream\n",
    "import torchaudio\n",
    "from IPython.display import Audio"
   ]
  },
  {
   "cell_type": "code",
   "execution_count": null,
   "id": "4549be3d",
   "metadata": {},
   "outputs": [],
   "source": [
    "camera = CameraStream(constraints={'audio': True,'video':False})\n",
    "recorder = AudioRecorder(stream=camera)\n",
    "recorder"
   ]
  },
  {
   "cell_type": "markdown",
   "id": "c98f114f",
   "metadata": {},
   "source": [
    "# Live audio analysis"
   ]
  },
  {
   "cell_type": "code",
   "execution_count": null,
   "id": "9ec73c79",
   "metadata": {},
   "outputs": [],
   "source": [
    "import pyaudio\n",
    "import struct\n",
    "import numpy as np\n",
    "import matplotlib.pyplot as plt\n",
    "import time\n",
    "from tkinter import TclError\n",
    "\n",
    "# use this backend to display in separate Tk window\n",
    "%matplotlib inline\n",
    "\n",
    "# constants\n",
    "CHUNK = 1024 * 2             # samples per frame\n",
    "FORMAT = pyaudio.paInt16     # audio format (bytes per sample?)\n",
    "CHANNELS = 1                 # single channel for microphone\n",
    "RATE = 44100                 # samples per second\n",
    "REFRESH_RATE = 0.1           # Rate of refresh of graphs in seconds"
   ]
  },
  {
   "cell_type": "code",
   "execution_count": null,
   "id": "07450201",
   "metadata": {},
   "outputs": [],
   "source": [
    "def smooth(y, box_pts):\n",
    "    box = np.ones(box_pts)/box_pts\n",
    "    y_smooth = np.convolve(y, box, mode='same')\n",
    "    return y_smooth"
   ]
  },
  {
   "cell_type": "markdown",
   "id": "dbe0a77a",
   "metadata": {},
   "source": [
    "## Wave display"
   ]
  },
  {
   "cell_type": "code",
   "execution_count": null,
   "id": "cb3459a1",
   "metadata": {},
   "outputs": [],
   "source": [
    "# create matplotlib figure and axes\n",
    "fig, (ax, ax2) = plt.subplots(2, figsize=(20, 7))\n",
    "\n",
    "# pyaudio class instance\n",
    "p = pyaudio.PyAudio()\n",
    "\n",
    "# stream object to get data from microphone\n",
    "stream = p.open(\n",
    "    format=FORMAT,\n",
    "    channels=CHANNELS,\n",
    "    rate=RATE,\n",
    "    input=True,\n",
    "    output=True,\n",
    "    frames_per_buffer=CHUNK\n",
    ")\n",
    "\n",
    "# variable for plotting\n",
    "x = np.arange(0, 2 * CHUNK, 2)\n",
    "\n",
    "# create a line object with random data\n",
    "line, = ax.plot(x, np.random.rand(CHUNK), '-', lw=1)\n",
    "\n",
    "# basic formatting for the axes\n",
    "ax.set_title('AUDIO WAVEFORM')\n",
    "ax.set_xlabel('samples')\n",
    "ax.set_ylabel('volume')\n",
    "ax.set_ylim(-100, 355)\n",
    "ax.set_xlim(0, 2 * CHUNK)\n",
    "plt.setp(ax, xticks=[0, CHUNK, 2 * CHUNK], yticks=[0, 128, 255])\n",
    "print(\"Display ready\")\n",
    "\n",
    "# show the plot\n",
    "plt.show(block=False)\n",
    "print('stream started')\n",
    "\n",
    "while True:\n",
    "    \n",
    "    # binary data\n",
    "    data = stream.read(CHUNK)  \n",
    "    \n",
    "    # convert data to integers, make np array, then offset it by 127\n",
    "    data_int = struct.unpack(str(2 * CHUNK) + 'B', data)\n",
    "    \n",
    "    # create np array and offset by 128\n",
    "    data_np = np.array([n for n in data_int], dtype='b')[::2] + 128\n",
    "    data_np = smooth(data_np, 15)\n",
    "    line.set_ydata(data_np)\n",
    "    \n",
    "    # update figure canvas\n",
    "    try:\n",
    "        fig.canvas.draw()\n",
    "        fig.canvas.flush_events()\n",
    "        frame_count += 1\n",
    "        print(1)\n",
    "        time.sleep(REFRESH_RATE)\n",
    "        \n",
    "    except:\n",
    "        print('stream stopped')\n",
    "        break\n",
    "        \n",
    "print('stream ended')"
   ]
  },
  {
   "cell_type": "markdown",
   "id": "22f10114",
   "metadata": {},
   "source": [
    "# Spectogram plotting"
   ]
  },
  {
   "cell_type": "code",
   "execution_count": 1,
   "id": "68aa8b75",
   "metadata": {},
   "outputs": [],
   "source": [
    "from aimpathy_constants import *\n",
    "from audio_utils import smooth\n",
    "import pyaudio\n",
    "import struct\n",
    "import numpy as np\n",
    "import matplotlib.pyplot as plt\n",
    "from scipy.fftpack import fft\n",
    "import time\n",
    "import math"
   ]
  },
  {
   "cell_type": "code",
   "execution_count": 59,
   "id": "64bf8b8c",
   "metadata": {},
   "outputs": [],
   "source": [
    "REFRESH_RATE = 0.1\n",
    "RATE = 44100\n",
    "CHUNK = 1024 * 2\n",
    "SPECTOGRAM_SECS = 2"
   ]
  },
  {
   "cell_type": "code",
   "execution_count": 87,
   "id": "7ea35f7e",
   "metadata": {},
   "outputs": [],
   "source": [
    "y, x = np.meshgrid(np.linspace(0, RATE, RATE//10), np.linspace(0, SPECTOGRAM_SECS * 60, int((SPECTOGRAM_SECS * 60) / REFRESH_RATE)))\n",
    "z = np.zeros(x.shape)\n",
    "z = z[:-1, :-1]\n",
    "z_min, z_max = 0, 256"
   ]
  },
  {
   "cell_type": "code",
   "execution_count": 92,
   "id": "73445852",
   "metadata": {},
   "outputs": [
    {
     "data": {
      "text/plain": [
       "1199"
      ]
     },
     "execution_count": 92,
     "metadata": {},
     "output_type": "execute_result"
    }
   ],
   "source": [
    "z.shape[0]"
   ]
  },
  {
   "cell_type": "code",
   "execution_count": 95,
   "id": "119a87f8",
   "metadata": {},
   "outputs": [],
   "source": [
    "for i in range(z.shape[0]//2):\n",
    "    z[i] = np.ones(z[i].shape)*255"
   ]
  },
  {
   "cell_type": "code",
   "execution_count": 103,
   "id": "ad317fcf",
   "metadata": {},
   "outputs": [
    {
     "data": {
      "image/png": "[encoded data removed]",
      "text/plain": [
       "<Figure size 1080x504 with 2 Axes>"
      ]
     },
     "metadata": {
      "needs_background": "light"
     },
     "output_type": "display_data"
    }
   ],
   "source": [
    "fig, ax_specto = plt.subplots(figsize=(15, 7))\n",
    "specto_heatmap = ax_specto.pcolormesh(x, y, np.roll(z, 200, axis=0), cmap='viridis', vmin=z_min, vmax=z_max)\n",
    "ax_specto.set_yscale('log')\n",
    "ax_specto.set_ylim(1, RATE)\n",
    "ax_specto.set_xlim(0, SPECTOGRAM_SECS * 60)\n",
    "plt.setp(ax_specto, xticks=np.linspace(0, SPECTOGRAM_SECS * 60, (SPECTOGRAM_SECS * 60 // 15) + 1), yticks=[10**i for i in range(0, math.ceil(math.log(RATE, 10)))])\n",
    "fig.colorbar(specto_heatmap, ax=ax_specto)\n",
    "plt.show()"
   ]
  },
  {
   "cell_type": "code",
   "execution_count": null,
   "id": "2c154311",
   "metadata": {},
   "outputs": [],
   "source": [
    "ax_specto.set_title('Spectrogram')\n",
    "ax_specto.set_xlabel('Time')\n",
    "ax_specto.set_ylabel('Hz')\n",
    "ax_specto.set_xlim(20, RATE / 2)\n",
    "\n",
    "specto_x = np.linspace(0, SPECTOGRAM_SECS * 60, int((SPECTOGRAM_SECS * 60) / REFRESH_RATE))\n",
    "specto_y = np.linspace(0, RATE, RATE)\n",
    "specto_z = np.linspace(0, RATE, RATE)\n",
    "specto_heatmap, = ax_specto.pcolormesh(specto_x, specto_y, z, cmap='RdBu', vmin=z_min, vmax=z_max)\n",
    "\n",
    "plt.show(block=False)"
   ]
  }
 ],
 "metadata": {
  "kernelspec": {
   "display_name": "aimpathy",
   "language": "python",
   "name": "aimpathy"
  },
  "language_info": {
   "codemirror_mode": {
    "name": "ipython",
    "version": 3
   },
   "file_extension": ".py",
   "mimetype": "text/x-python",
   "name": "python",
   "nbconvert_exporter": "python",
   "pygments_lexer": "ipython3",
   "version": "3.8.13"
  }
 },
 "nbformat": 4,
 "nbformat_minor": 5
}

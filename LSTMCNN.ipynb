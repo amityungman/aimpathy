{
 "cells": [
  {
   "cell_type": "code",
   "execution_count": 1,
   "metadata": {},
   "outputs": [
    {
     "name": "stdout",
     "output_type": "stream",
     "text": [
      "cuda:0\n"
     ]
    }
   ],
   "source": [
    "from typing import Tuple\n",
    "import pandas as pd\n",
    "from tqdm import tqdm\n",
    "import os\n",
    "import time\n",
    "import random\n",
    "import pickle\n",
    "import numpy as np\n",
    "from os.path import isfile, join\n",
    "from pydub import AudioSegment\n",
    "from scipy.io import wavfile\n",
    "\n",
    "import torch\n",
    "from torch import nn\n",
    "from torchaudio import transforms\n",
    "\n",
    "from models.audio_LSTMCNN import AudioLSTMCNN\n",
    "\n",
    "device = torch.device(\"cuda:0\" if torch.cuda.is_available() else \"cpu\")\n",
    "print(device)"
   ]
  },
  {
   "cell_type": "markdown",
   "metadata": {},
   "source": [
    "# Constants"
   ]
  },
  {
   "cell_type": "code",
   "execution_count": 2,
   "metadata": {},
   "outputs": [],
   "source": [
    "RATE = 44100\n",
    "MEL_SPECTROGRAM_BUCKETS = 128\n",
    "MEL_SPECTROGRAM_WINDOW_LENGTH = 224\n",
    "SPECTROS_PER_SECOND = RATE // (MEL_SPECTROGRAM_WINDOW_LENGTH / 2) - 1\n",
    "CHUNKS_PER_SECOND = 2\n",
    "CHUNK_SIZE_IN_SPECTROS = int(SPECTROS_PER_SECOND // CHUNKS_PER_SECOND)\n",
    "\n",
    "TRAINSET_RATIO = 0.8"
   ]
  },
  {
   "cell_type": "markdown",
   "metadata": {},
   "source": [
    "<hr>"
   ]
  },
  {
   "cell_type": "markdown",
   "metadata": {},
   "source": [
    "# Dataset"
   ]
  },
  {
   "cell_type": "markdown",
   "metadata": {},
   "source": [
    "## Create dataset"
   ]
  },
  {
   "cell_type": "markdown",
   "metadata": {},
   "source": [
    "#### Load data"
   ]
  },
  {
   "cell_type": "code",
   "execution_count": 3,
   "metadata": {},
   "outputs": [],
   "source": [
    "AUDIO_FOLDER = \"C:\\\\Users\\\\amity\\\\PycharmProjects\\\\aimpathy\\\\data\\\\PMEmo\\\\PMEmo2019\\\\chorus\"\n",
    "THAYER_ANOTATIONS_CSV = \"C:\\\\Users\\\\amity\\\\PycharmProjects\\\\aimpathy\\\\data\\\\PMEmo\\\\PMEmo2019\\\\annotations\\\\dynamic_annotations.csv\"\n",
    "thayer_annotations_df = pd.read_csv(THAYER_ANOTATIONS_CSV)"
   ]
  },
  {
   "cell_type": "code",
   "execution_count": 4,
   "metadata": {},
   "outputs": [
    {
     "name": "stderr",
     "output_type": "stream",
     "text": [
      "C:\\Users\\amity\\Anaconda3\\envs\\aimpathy\\lib\\site-packages\\torchaudio\\functional\\functional.py:539: UserWarning: At least one mel filterbank has all zero values. The value for `n_mels` (128) may be set too high. Or, the value for `n_freqs` (128) may be set too low.\n",
      "  warnings.warn(\n"
     ]
    }
   ],
   "source": [
    "audio_files = [f for f in os.listdir(AUDIO_FOLDER) if isfile(join(AUDIO_FOLDER, f))]\n",
    "audio_data = dict()\n",
    "torch_spectorgrams = dict()\n",
    "spectorgrammer = transforms.MelSpectrogram(sample_rate=RATE, n_fft=(MEL_SPECTROGRAM_BUCKETS * 2 - 2), win_length=MEL_SPECTROGRAM_WINDOW_LENGTH, power=2, normalized=True)"
   ]
  },
  {
   "cell_type": "markdown",
   "metadata": {},
   "source": [
    "#### Convery to Spectrograms"
   ]
  },
  {
   "cell_type": "code",
   "execution_count": 5,
   "metadata": {},
   "outputs": [
    {
     "name": "stderr",
     "output_type": "stream",
     "text": [
      "100%|██████████████████████████████████████████████████████████████████████████████████████████████| 794/794 [03:12<00:00,  4.13it/s]\n"
     ]
    }
   ],
   "source": [
    "spectrograms = dict()\n",
    "for audio_file in tqdm(audio_files, total=len(audio_files)):\n",
    "    sound = AudioSegment.from_mp3(os.sep.join([AUDIO_FOLDER, audio_file])).set_channels(1)\n",
    "    audio_file_wave = sound.export(format=\"wav\", bitrate=RATE)\n",
    "    sample_rate, samples = wavfile.read(audio_file_wave)\n",
    "    spectogram = spectorgrammer(torch.from_numpy(samples/(2**15)).float().reshape((1, -1)))\n",
    "    spectrograms[audio_file] = spectogram\n",
    "    audio_file_wave.close()\n",
    "spectrograms = {key: value for key, value in spectrograms.items() if \".wav\" not in key}"
   ]
  },
  {
   "cell_type": "markdown",
   "metadata": {},
   "source": [
    "#### Create final dataset"
   ]
  },
  {
   "cell_type": "code",
   "execution_count": 6,
   "metadata": {},
   "outputs": [
    {
     "name": "stderr",
     "output_type": "stream",
     "text": [
      "100%|██████████████████████████████████████████████████████████████████████████████████████████████| 793/793 [00:33<00:00, 23.93it/s]\n"
     ]
    }
   ],
   "source": [
    "dataset = dict()  # music_id: spectrogram, (valence, arousal)\n",
    "for file_name, spectrogram in tqdm(spectrograms.items(), total=len(spectrograms)):\n",
    "    music_id = int(file_name.replace(\".mp3\", \"\"))\n",
    "    dataset[music_id] = list()\n",
    "    max_frame_time = thayer_annotations_df[thayer_annotations_df[\"musicId\"] == music_id][\"frameTime\"].max()\n",
    "    if np.isnan(max_frame_time):\n",
    "        # print(f\"Skipping {music_id}\")\n",
    "        continue\n",
    "    for i in range(int(CHUNKS_PER_SECOND * max_frame_time)):\n",
    "        data_df = thayer_annotations_df[(thayer_annotations_df[\"musicId\"] == music_id) & (thayer_annotations_df[\"frameTime\"] == i/2)]\n",
    "        if data_df.empty:\n",
    "            #  print(f\"Skipping {musicI_id} - {i/2}\")\n",
    "            continue\n",
    "        valence = data_df.iloc[0][\"Valence(mean)\"]\n",
    "        arousal = data_df.iloc[0][\"Arousal(mean)\"]\n",
    "        dataset[music_id].append((spectrogram[0, :, int((i/2-1)*CHUNK_SIZE_IN_SPECTROS): int((i/2)*CHUNK_SIZE_IN_SPECTROS)], (valence, arousal)))"
   ]
  },
  {
   "cell_type": "markdown",
   "metadata": {},
   "source": [
    "### Divide to train and test"
   ]
  },
  {
   "cell_type": "code",
   "execution_count": null,
   "metadata": {},
   "outputs": [],
   "source": [
    "train_music_ids = random.sample(dataset.keys(), int(TRAINSET_RATIO*len(dataset)))\n",
    "trainset = {key: value for key, value in dataset.items() if key in train_music_ids}\n",
    "testset = {key: value for key, value in dataset.items() if key not in train_music_ids}"
   ]
  },
  {
   "cell_type": "code",
   "execution_count": null,
   "metadata": {},
   "outputs": [],
   "source": [
    "with open(f'data/datasets/trainset_{int(time.time())}.pk', 'wb') as f:\n",
    "    pickle.dump(list(trainset.keys()), f)\n",
    "with open(f'data/datasets/testset_{int(time.time())}.pk', 'wb') as f:\n",
    "    pickle.dump(list(testset.keys()), f)"
   ]
  },
  {
   "cell_type": "markdown",
   "metadata": {},
   "source": [
    "### Load train and test"
   ]
  },
  {
   "cell_type": "code",
   "execution_count": 7,
   "metadata": {},
   "outputs": [],
   "source": [
    "dataset_label = '1674741184'\n",
    "with open(f'data/datasets/trainset_{dataset_label}.pk', 'rb') as f:\n",
    "    trainset_ids = pickle.load(f)\n",
    "    trainset = {key: value for key, value in dataset.items() if key in trainset_ids}\n",
    "with open(f'data/datasets/testset_{dataset_label}.pk', 'rb') as f:\n",
    "    testset_ids = pickle.load(f)\n",
    "    testset = {key: value for key, value in dataset.items() if key in testset_ids}"
   ]
  },
  {
   "cell_type": "markdown",
   "metadata": {},
   "source": [
    "## Plot spectrogram"
   ]
  },
  {
   "cell_type": "code",
   "execution_count": null,
   "metadata": {},
   "outputs": [],
   "source": [
    "import matplotlib.pyplot as plt\n",
    "import librosa"
   ]
  },
  {
   "cell_type": "code",
   "execution_count": null,
   "metadata": {},
   "outputs": [],
   "source": [
    "def plot_spectrogram(spec, title=None, ylabel=\"freq_bin\", aspect=\"auto\", xmax=None, ymax=None):\n",
    "    fig, axs = plt.subplots(1, 1)\n",
    "    axs.set_title(title or \"Spectrogram (db)\")\n",
    "    axs.set_ylabel(ylabel)\n",
    "    axs.set_xlabel(\"frame\")\n",
    "    im = axs.imshow(librosa.power_to_db(spec), origin=\"lower\", aspect=aspect)\n",
    "    if xmax:\n",
    "        axs.set_xlim((0, xmax))\n",
    "    if ymax:\n",
    "        axs.set_ylim((0, ymax))\n",
    "    fig.colorbar(im, ax=axs)\n",
    "    plt.show(block=False)"
   ]
  },
  {
   "cell_type": "code",
   "execution_count": null,
   "metadata": {},
   "outputs": [],
   "source": [
    "plot_spectrogram(dataset[1000][0], title=\"MelSpectrogram - torchaudio\", ylabel=\"mel freq\")"
   ]
  },
  {
   "cell_type": "markdown",
   "metadata": {},
   "source": [
    "# Model"
   ]
  },
  {
   "cell_type": "code",
   "execution_count": null,
   "metadata": {},
   "outputs": [],
   "source": [
    "# Load model\n",
    "# model_name = f'saved_models/{}.pt'\n",
    "# model_c = AudioLSTMCNN(input_shape=(128, 196), out_size=2).cuda()\n",
    "# model_c.load_state_dict(torch.load(latest_model_name)).cuda();\n",
    "# model_c.eval()\n",
    "# print(\"Loaded model\")"
   ]
  },
  {
   "cell_type": "markdown",
   "metadata": {},
   "source": [
    "### Train model"
   ]
  },
  {
   "cell_type": "code",
   "execution_count": 8,
   "metadata": {},
   "outputs": [],
   "source": [
    "model_c = AudioLSTMCNN(input_shape=(128, 196), out_size=2).cuda()"
   ]
  },
  {
   "cell_type": "code",
   "execution_count": 9,
   "metadata": {},
   "outputs": [],
   "source": [
    "criterion = nn.MSELoss().cuda()\n",
    "optimizer = torch.optim.Adam(model_c.parameters(), lr=0.001)\n",
    "scheduler = torch.optim.lr_scheduler.ReduceLROnPlateau(optimizer, 'min', patience = 5, factor=0.5)"
   ]
  },
  {
   "cell_type": "code",
   "execution_count": 10,
   "metadata": {},
   "outputs": [
    {
     "name": "stdout",
     "output_type": "stream",
     "text": [
      "torch.Size([128, 196])\n",
      "torch.Size([1, 1, 128, 196])\n"
     ]
    }
   ],
   "source": [
    "print(dataset[10][0][0].shape)\n",
    "print(dataset[10][0][0].reshape((1, 1, MEL_SPECTROGRAM_BUCKETS, -1)).shape)"
   ]
  },
  {
   "cell_type": "code",
   "execution_count": 17,
   "metadata": {
    "scrolled": true
   },
   "outputs": [
    {
     "name": "stdout",
     "output_type": "stream",
     "text": [
      " 0-   0 | loss: 0.09216[0.09216] [0.30165, 0.30548]        lr: 0.001                  0.42855, 0.42855  |  0.73020, 0.73020\n",
      " 0- 500 | loss: 0.00329[0.00964] [0.02967, 0.07552]        lr: 0.001                  0.67066, 0.67066  |  0.64100, 0.64100\n",
      " 0-1000 | loss: 0.00026[0.01013] [0.00441, 0.02216]        lr: 0.001                  0.73422, 0.73422  |  0.72982, 0.72982\n",
      " 0-1500 | loss: 0.00100[0.01047] [0.00571, 0.04445]        lr: 0.001                  0.82501, 0.82501  |  0.83072, 0.83072\n",
      " 0-2000 | loss: 0.00511[0.01018] [0.06974, 0.07313]        lr: 0.001                  0.55889, 0.55889  |  0.62862, 0.62862\n",
      " 1- 500 | loss: 0.00476[0.00576] [0.06456, 0.07315]        lr: 0.001                  0.55811, 0.55811  |  0.62267, 0.62267\n",
      " 1-1000 | loss: 0.00413[0.00891] [0.06555, 0.06297]        lr: 0.001                  0.40189, 0.40189  |  0.46743, 0.46743\n",
      " 1-1500 | loss: 0.00016[0.01032] [0.01615, 0.00752]        lr: 0.001                  0.75956, 0.75956  |  0.77571, 0.77571\n",
      " 2- 500 | loss: 0.00290[0.00793] [0.06539, 0.03912]        lr: 0.001                  0.81689, 0.81689  |  0.75150, 0.75150\n",
      " 2-1000 | loss: 0.00637[0.01046] [0.07128, 0.08751]        lr: 0.001                  0.59790, 0.59790  |  0.52662, 0.52662\n",
      " 2-1500 | loss: 0.00123[0.01140] [0.03919, 0.03024]        lr: 0.001                  0.65667, 0.65667  |  0.61749, 0.61749\n",
      " 2-2000 | loss: 0.00139[0.01201] [0.04866, 0.02031]        lr: 0.001                  0.67221, 0.67221  |  0.62355, 0.62355\n",
      " 3- 500 | loss: 0.00470[0.01084] [0.02217, 0.09434]        lr: 0.001                  0.76111, 0.76111  |  0.73894, 0.73894\n",
      " 3-1000 | loss: 0.00549[0.00838] [0.02730, 0.10114]        lr: 0.001                  0.54056, 0.54056  |  0.56786, 0.56786\n",
      " 3-1500 | loss: 0.00744[0.01136] [0.06865, 0.10083]        lr: 0.001                  0.29112, 0.29112  |  0.35977, 0.35977\n",
      " 3-2000 | loss: 0.00191[0.01043] [0.02401, 0.05702]        lr: 0.001                  0.63270, 0.63270  |  0.60869, 0.60869\n",
      " 4- 500 | loss: 0.00007[0.01295] [0.01109, 0.00333]        lr: 0.001                  0.62209, 0.62209  |  0.61099, 0.61099\n",
      " 4-1000 | loss: 0.00085[0.01319] [0.03628, 0.01935]        lr: 0.001                  0.30465, 0.30465  |  0.26837, 0.26837\n",
      " 4-1500 | loss: 0.00377[0.01380] [0.02330, 0.08361]        lr: 0.001                  0.78701, 0.78701  |  0.76371, 0.76371\n",
      " 4-2000 | loss: 0.00150[0.01429] [0.05395, 0.00979]        lr: 0.001                  0.43818, 0.43818  |  0.49213, 0.49213\n",
      " 5- 500 | loss: 0.00042[0.02056] [0.01480, 0.02492]        lr: 0.001                  0.75432, 0.75432  |  0.73952, 0.73952\n",
      " 5-1000 | loss: 0.00044[0.01674] [0.01894, 0.02289]        lr: 0.001                  0.51366, 0.51366  |  0.49473, 0.49473\n",
      " 5-1500 | loss: 0.00185[0.01877] [0.04746, 0.03793]        lr: 0.001                  0.79733, 0.79733  |  0.84479, 0.84479\n",
      " 5-2000 | loss: 0.00016[0.01616] [0.00400, 0.01754]        lr: 0.001                  0.71890, 0.71890  |  0.72290, 0.72290\n",
      " 6- 500 | loss: 0.00119[0.01460] [0.01108, 0.04748]        lr: 0.0005                  0.84356, 0.84356  |  0.85464, 0.85464\n",
      " 6-1000 | loss: 0.02556[0.02581] [0.20036, 0.10472]        lr: 0.0005                  0.39745, 0.39745  |  0.59781, 0.59781\n",
      " 6-1500 | loss: 0.00472[0.02467] [0.09528, 0.01903]        lr: 0.0005                  0.50077, 0.50077  |  0.59605, 0.59605\n",
      " 6-2000 | loss: 0.03694[0.02244] [0.10996, 0.24858]        lr: 0.0005                  0.64924, 0.64924  |  0.53927, 0.53927\n",
      " 7- 500 | loss: 0.09409[0.02140] [0.42582, 0.08278]        lr: 0.0005                  0.23644, 0.23644  |  0.66225, 0.66225\n",
      " 7-1000 | loss: 0.01395[0.02076] [0.00211, 0.16704]        lr: 0.0005                  0.59078, 0.59078  |  0.59288, 0.59288\n",
      " 7-1500 | loss: 0.02126[0.02088] [0.15785, 0.13267]        lr: 0.0005                  0.79457, 0.79457  |  0.63672, 0.63672\n",
      " 7-2000 | loss: 0.02239[0.02122] [0.11333, 0.17872]        lr: 0.0005                  0.51834, 0.51834  |  0.63167, 0.63167\n",
      " 8- 500 | loss: 0.01446[0.01264] [0.16999, 0.00514]        lr: 0.0005                  0.81279, 0.81279  |  0.64280, 0.64280\n",
      " 8-1000 | loss: 0.03099[0.01850] [0.16624, 0.18532]        lr: 0.0005                  0.80790, 0.80790  |  0.64166, 0.64166\n",
      " 8-1500 | loss: 0.00550[0.01882] [0.01998, 0.10299]        lr: 0.0005                  0.64445, 0.64445  |  0.66443, 0.66443\n",
      " 8-2000 | loss: 0.00982[0.01903] [0.03938, 0.13449]        lr: 0.0005                  0.59935, 0.59935  |  0.63872, 0.63872\n",
      " 9- 500 | loss: 0.00022[0.02410] [0.02095, 0.00203]        lr: 0.0005                  0.69600, 0.69600  |  0.67505, 0.67505\n",
      " 9-1000 | loss: 0.00841[0.02575] [0.11795, 0.05398]        lr: 0.0005                  0.73844, 0.73844  |  0.62048, 0.62048\n",
      " 9-1500 | loss: 0.00404[0.02150] [0.07366, 0.05159]        lr: 0.0005                  0.50947, 0.50947  |  0.43581, 0.43581\n",
      "10- 500 | loss: 0.01428[0.01322] [0.12021, 0.11879]        lr: 0.0005                  0.80344, 0.80344  |  0.68322, 0.68322\n",
      "10-1000 | loss: 0.00053[0.01875] [0.02715, 0.01772]        lr: 0.0005                  0.81155, 0.81155  |  0.78440, 0.78440\n",
      "10-1500 | loss: 0.00096[0.01899] [0.00922, 0.04278]        lr: 0.0005                  0.74779, 0.74779  |  0.73857, 0.73857\n",
      "10-2000 | loss: 0.00751[0.01803] [0.12223, 0.00887]        lr: 0.0005                  0.69554, 0.69554  |  0.57330, 0.57330\n",
      "11- 500 | loss: 0.00348[0.01555] [0.00614, 0.08314]        lr: 0.0005                  0.52956, 0.52956  |  0.53570, 0.53570\n",
      "11-1000 | loss: 0.00130[0.01269] [0.04833, 0.01604]        lr: 0.0005                  0.85144, 0.85144  |  0.80310, 0.80310\n",
      "11-1500 | loss: 0.00337[0.01794] [0.02294, 0.07888]        lr: 0.0005                  0.63101, 0.63101  |  0.60808, 0.60808\n",
      "11-2000 | loss: 0.00688[0.01712] [0.06273, 0.09915]        lr: 0.0005                  0.76456, 0.76456  |  0.70183, 0.70183\n",
      "12- 500 | loss: 0.00300[0.00981] [0.05119, 0.05810]        lr: 0.00025                  0.56621, 0.56621  |  0.61740, 0.61740\n",
      "12-1000 | loss: 0.01874[0.01642] [0.02162, 0.19237]        lr: 0.00025                  0.56411, 0.56411  |  0.54249, 0.54249\n",
      "12-1500 | loss: 0.00595[0.01302] [0.08897, 0.06311]        lr: 0.00025                  0.52087, 0.52087  |  0.60985, 0.60985\n",
      "12-2000 | loss: 0.01530[0.01476] [0.13437, 0.11197]        lr: 0.00025                  0.47978, 0.47978  |  0.61415, 0.61415\n",
      "13- 500 | loss: 0.07782[0.02620] [0.21189, 0.33277]        lr: 0.00025                  0.36621, 0.36621  |  0.57810, 0.57810\n",
      "13-1000 | loss: 0.00305[0.02921] [0.07357, 0.02625]        lr: 0.00025                  0.76224, 0.76224  |  0.68867, 0.68867\n",
      "13-1500 | loss: 0.08988[0.02851] [0.12917, 0.40383]        lr: 0.00025                  0.54311, 0.54311  |  0.67228, 0.67228\n",
      "13-2000 | loss: 0.10524[0.02987] [0.42957, 0.16111]        lr: 0.00025                  0.71424, 0.71424  |  0.28467, 0.28467\n",
      "14- 500 | loss: 0.02358[0.03740] [0.08303, 0.20068]        lr: 0.00025                  0.70599, 0.70599  |  0.62295, 0.62295\n",
      "14-1000 | loss: 0.00402[0.03267] [0.08649, 0.02345]        lr: 0.00025                  0.72422, 0.72422  |  0.63773, 0.63773\n",
      "14-1500 | loss: 0.00029[0.03191] [0.01717, 0.01700]        lr: 0.00025                  0.61100, 0.61100  |  0.59383, 0.59383\n",
      "15- 500 | loss: 0.03013[0.01969] [0.19248, 0.15238]        lr: 0.00025                  0.81721, 0.81721  |  0.62473, 0.62473\n",
      "15-1000 | loss: 0.00944[0.01540] [0.13333, 0.03326]        lr: 0.00025                  0.40301, 0.40301  |  0.53635, 0.53635\n",
      "15-1500 | loss: 0.00314[0.01823] [0.05982, 0.05195]        lr: 0.00025                  0.71034, 0.71034  |  0.65052, 0.65052\n",
      "15-2000 | loss: 0.01936[0.01968] [0.18233, 0.07399]        lr: 0.00025                  0.41357, 0.41357  |  0.59590, 0.59590\n",
      "15-2500 | loss: 0.00618[0.01962] [0.09906, 0.05048]        lr: 0.00025                  0.48423, 0.48423  |  0.58329, 0.58329\n",
      "16- 500 | loss: 0.00394[0.00956] [0.04236, 0.07800]        lr: 0.00025                  0.75354, 0.75354  |  0.79590, 0.79590\n",
      "16-1000 | loss: 0.00612[0.02628] [0.10554, 0.03304]        lr: 0.00025                  0.50544, 0.50544  |  0.61098, 0.61098\n",
      "16-1500 | loss: 0.04625[0.02648] [0.05791, 0.29858]        lr: 0.00025                  0.50276, 0.50276  |  0.44485, 0.44485\n"
     ]
    },
    {
     "name": "stdout",
     "output_type": "stream",
     "text": [
      "16-2000 | loss: 0.00802[0.02713] [0.12263, 0.03148]        lr: 0.00025                  0.49246, 0.49246  |  0.61510, 0.61510\n",
      "17- 500 | loss: 0.00851[0.02547] [0.06935, 0.11049]        lr: 0.00025                  0.72601, 0.72601  |  0.65666, 0.65666\n",
      "17-1000 | loss: 0.05897[0.03389] [0.23344, 0.25186]        lr: 0.00025                  0.82655, 0.82655  |  0.59311, 0.59311\n",
      "17-1500 | loss: 0.03702[0.03418] [0.14134, 0.23254]        lr: 0.00025                  0.20368, 0.20368  |  0.34501, 0.34501\n",
      "17-2000 | loss: 0.00304[0.03131] [0.07788, 0.00437]        lr: 0.00025                  0.71024, 0.71024  |  0.63236, 0.63236\n",
      "18- 500 | loss: 0.00302[0.01822] [0.02098, 0.07478]        lr: 0.000125                  0.73200, 0.73200  |  0.71102, 0.71102\n",
      "18-1000 | loss: 0.00913[0.01646] [0.04594, 0.12709]        lr: 0.000125                  0.60744, 0.60744  |  0.65338, 0.65338\n",
      "18-1500 | loss: 0.00271[0.01735] [0.02336, 0.06984]        lr: 0.000125                  0.67623, 0.67623  |  0.65286, 0.65286\n",
      "19- 500 | loss: 0.00784[0.01499] [0.12339, 0.02122]        lr: 0.000125                  0.80532, 0.80532  |  0.68194, 0.68194\n",
      "19-1000 | loss: 0.06223[0.02323] [0.32052, 0.14740]        lr: 0.000125                  0.35110, 0.35110  |  0.67162, 0.67162\n",
      "19-1500 | loss: 0.01861[0.02345] [0.14870, 0.12290]        lr: 0.000125                  0.48045, 0.48045  |  0.62915, 0.62915\n",
      "20- 500 | loss: 0.00077[0.02411] [0.03194, 0.02260]        lr: 0.000125                  0.57189, 0.57189  |  0.53995, 0.53995\n",
      "20-1000 | loss: 0.00790[0.02491] [0.12161, 0.03194]        lr: 0.000125                  0.73045, 0.73045  |  0.60884, 0.60884\n",
      "20-1500 | loss: 0.01019[0.02685] [0.11733, 0.08133]        lr: 0.000125                  0.65444, 0.65444  |  0.53710, 0.53710\n",
      "20-2000 | loss: 0.09302[0.02834] [0.35368, 0.24689]        lr: 0.000125                  0.26479, 0.26479  |  0.61847, 0.61847\n",
      "21- 500 | loss: 0.00839[0.02754] [0.07231, 0.10745]        lr: 0.000125                  0.50045, 0.50045  |  0.57276, 0.57276\n",
      "21-1000 | loss: 0.09081[0.03070] [0.24508, 0.34864]        lr: 0.000125                  0.82465, 0.82465  |  0.57957, 0.57957\n",
      "21-1500 | loss: 0.05175[0.02875] [0.32156, 0.01002]        lr: 0.000125                  0.32667, 0.32667  |  0.64823, 0.64823\n",
      "21-2000 | loss: 0.00035[0.02419] [0.01175, 0.02371]        lr: 0.000125                  0.74299, 0.74299  |  0.73124, 0.73124\n",
      "22- 500 | loss: 0.01156[0.02131] [0.04639, 0.14483]        lr: 0.000125                  0.69290, 0.69290  |  0.64651, 0.64651\n",
      "22-1000 | loss: 0.05901[0.02701] [0.19848, 0.28039]        lr: 0.000125                  0.79566, 0.79566  |  0.59717, 0.59717\n",
      "22-1500 | loss: 0.03584[0.02747] [0.23427, 0.12959]        lr: 0.000125                  0.29555, 0.29555  |  0.52982, 0.52982\n",
      "22-2000 | loss: 0.00921[0.02724] [0.02704, 0.13302]        lr: 0.000125                  0.63745, 0.63745  |  0.61041, 0.61041\n",
      "23- 500 | loss: 0.03756[0.04043] [0.15235, 0.22783]        lr: 0.000125                  0.75222, 0.75222  |  0.59988, 0.59988\n",
      "23-1000 | loss: 0.02638[0.03859] [0.11489, 0.19887]        lr: 0.000125                  0.78094, 0.78094  |  0.66605, 0.66605\n",
      "23-1500 | loss: 0.03387[0.03480] [0.25878, 0.02783]        lr: 0.000125                  0.81165, 0.81165  |  0.55287, 0.55287\n",
      "23-2000 | loss: 0.01017[0.03124] [0.05684, 0.13077]        lr: 0.000125                  0.71755, 0.71755  |  0.66071, 0.66071\n",
      "Saved model saved_models/AudioLSTMCNN_1674744325_03177431255472083.pt\n",
      "\n",
      "Duration: 771 seconds\n"
     ]
    }
   ],
   "source": [
    "start_time = time.time()\n",
    "EPOCS = 100\n",
    "PRINT_MARK = 500\n",
    "BATCH_SIZE = 50\n",
    "STOP_LOSS = 0.005\n",
    "MIN_LEARNING_RATE = 0.001\n",
    "\n",
    "normalize = lambda x: (x + 1)/2\n",
    "denormalize = lambda x: x*2 - 1\n",
    "\n",
    "\n",
    "for epoc in range(EPOCS):\n",
    "    losses = list()\n",
    "    train_key_sample = random.sample(trainset.keys(), BATCH_SIZE)\n",
    "    train_sample = [datum for key, value in trainset.items() if key in train_key_sample for datum in value]\n",
    "    for batch_i, (X_train, (valence, arousal)) in enumerate(train_sample):\n",
    "        optimizer.zero_grad()\n",
    "        model_c.hidden = (torch.zeros(model_c.hidden[0].shape).cuda(),\n",
    "                        torch.zeros(model_c.hidden[0].shape).cuda())\n",
    "        \n",
    "        y_train = torch.Tensor((valence, arousal)).cuda()\n",
    "        # Apply the model\n",
    "        y_pred = model_c(X_train.cuda())  # we don't flatten X-train here\n",
    "        loss = criterion(y_pred, y_train)\n",
    "\n",
    "        # Update parameters\n",
    "        loss.backward(retain_graph=True)\n",
    "        optimizer.step()\n",
    "\n",
    "        losses.append(loss.cpu().item())\n",
    "        \n",
    "        # Print interim results\n",
    "        if (batch_i > 0 or epoc == 0) and batch_i%PRINT_MARK == 0:\n",
    "            print(f'{epoc:2}-{batch_i:4} | loss: {loss.item():.5f}[{np.mean(losses):.5f}] [{abs(y_train[0] - y_pred[0]):.5f}, {abs(y_train[1] - y_pred[1]):.5f}]        lr: {optimizer.param_groups[0][\"lr\"]}\\\n",
    "                  {y_train[0].item():.5f}, {y_train[0].item():.5f}  |  {y_pred[0].item():.5f}, {y_pred[0].item():.5f}')\n",
    "    \n",
    "    scheduler.step(np.mean(losses))\n",
    "\n",
    "    if np.mean(losses) < STOP_LOSS or optimizer.param_groups[0][\"lr\"] < MIN_LEARNING_RATE:\n",
    "        break\n",
    "        \n",
    "latest_model_name = f'saved_models/AudioLSTMCNN_{int(time.time())}_{str(np.mean(losses))[2:]}.pt'\n",
    "torch.save(model_c.state_dict(), latest_model_name)\n",
    "print(f\"Saved model {latest_model_name}\")\n",
    "print(f'\\nDuration: {time.time() - start_time:.0f} seconds') # print the time elapsed            "
   ]
  },
  {
   "cell_type": "markdown",
   "metadata": {},
   "source": [
    "### Test model"
   ]
  },
  {
   "cell_type": "code",
   "execution_count": 18,
   "metadata": {},
   "outputs": [
    {
     "name": "stderr",
     "output_type": "stream",
     "text": [
      "100%|███████████████████████████████████████████████████████████████████████████████████████████| 6635/6635 [00:27<00:00, 241.40it/s]\n"
     ]
    }
   ],
   "source": [
    "losses = list()\n",
    "\n",
    "with torch.no_grad():\n",
    "    test_sample = [datum for key, value in testset.items() for datum in value]\n",
    "    for batch_i, (X_test, (valence, arousal)) in tqdm(enumerate(test_sample), total=len(test_sample)):\n",
    "        model_c.hidden = (torch.zeros(model_c.hidden[0].shape).cuda(),\n",
    "                        torch.zeros(model_c.hidden[0].shape).cuda())\n",
    "        y_test = torch.Tensor((valence, arousal)).cuda()\n",
    "        # Apply the model\n",
    "        y_val = model_c(X_test.cuda())\n",
    "        loss = criterion(y_val, y_test)\n",
    "        losses.append(loss.cpu())\n",
    "        if (min(y_val).item() < 0.5):\n",
    "            print(y_val)"
   ]
  },
  {
   "cell_type": "code",
   "execution_count": 19,
   "metadata": {},
   "outputs": [
    {
     "name": "stdout",
     "output_type": "stream",
     "text": [
      "Mean: 0.03146, median: 0.02223\n"
     ]
    }
   ],
   "source": [
    "print(f\"Mean: {np.mean(losses):.5f}, median: {np.median(losses):.5f}\")"
   ]
  },
  {
   "cell_type": "code",
   "execution_count": 16,
   "metadata": {},
   "outputs": [
    {
     "name": "stdout",
     "output_type": "stream",
     "text": [
      "Mean: 0.06930, median: 0.03384\n"
     ]
    }
   ],
   "source": [
    "print(f\"Mean: {np.mean(losses):.5f}, median: {np.median(losses):.5f}\")"
   ]
  },
  {
   "cell_type": "markdown",
   "metadata": {},
   "source": [
    "#### Inspect quadrants"
   ]
  },
  {
   "cell_type": "code",
   "execution_count": null,
   "metadata": {},
   "outputs": [],
   "source": [
    "testset.keys()"
   ]
  },
  {
   "cell_type": "code",
   "execution_count": null,
   "metadata": {},
   "outputs": [],
   "source": [
    "test_index = 519\n",
    "test_location = 0\n",
    "\n",
    "with torch.no_grad():\n",
    "    pred = model_c(testset[test_index][test_location][0].cuda()).cpu()\n",
    "print(pred)\n",
    "print([denormalize(a.item()) for a in pred])\n",
    "print(testset[test_index][test_location][1])"
   ]
  },
  {
   "cell_type": "code",
   "execution_count": null,
   "metadata": {},
   "outputs": [],
   "source": [
    "[(key, value[0][1]) for key, value in testset.items() if value and value[0][1] < (0.5, 0.5)]"
   ]
  },
  {
   "cell_type": "code",
   "execution_count": null,
   "metadata": {},
   "outputs": [],
   "source": []
  }
 ],
 "metadata": {
  "kernelspec": {
   "display_name": "aimpathy",
   "language": "python",
   "name": "aimpathy"
  },
  "language_info": {
   "codemirror_mode": {
    "name": "ipython",
    "version": 3
   },
   "file_extension": ".py",
   "mimetype": "text/x-python",
   "name": "python",
   "nbconvert_exporter": "python",
   "pygments_lexer": "ipython3",
   "version": "3.8.13"
  }
 },
 "nbformat": 4,
 "nbformat_minor": 4
}

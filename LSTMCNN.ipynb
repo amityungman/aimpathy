{
 "cells": [
  {
   "cell_type": "code",
   "execution_count": null,
   "metadata": {},
   "outputs": [],
   "source": [
    "from typing import Tuple\n",
    "import pandas as pd\n",
    "from tqdm import tqdm\n",
    "import os\n",
    "import time\n",
    "import random\n",
    "import pickle\n",
    "import numpy as np\n",
    "from os.path import isfile, join\n",
    "from pydub import AudioSegment\n",
    "from scipy.io import wavfile\n",
    "from sklearn.metrics import confusion_matrix, classification_report\n",
    "import matplotlib.pyplot as plt\n",
    "import librosa\n",
    "\n",
    "import torch\n",
    "from torch import nn\n",
    "from torchaudio import transforms\n",
    "\n",
    "from models.audio_LSTMCNN import AudioLSTMCNN\n",
    "%load_ext autoreload\n",
    "%autoreload 2\n",
    "\n",
    "device = torch.device(\"cuda:0\" if torch.cuda.is_available() else \"cpu\")\n",
    "print(device)"
   ]
  },
  {
   "cell_type": "markdown",
   "metadata": {},
   "source": [
    "# Constants"
   ]
  },
  {
   "cell_type": "code",
   "execution_count": null,
   "metadata": {},
   "outputs": [],
   "source": [
    "RATE = 44100\n",
    "MEL_SPECTROGRAM_BUCKETS = 128\n",
    "MEL_SPECTROGRAM_WINDOW_LENGTH = 224\n",
    "SPECTROS_PER_SECOND = RATE // (MEL_SPECTROGRAM_WINDOW_LENGTH / 2) - 1\n",
    "CHUNKS_PER_SECOND = 2\n",
    "CHUNK_SIZE_IN_SPECTROS = int(SPECTROS_PER_SECOND // CHUNKS_PER_SECOND)\n",
    "\n",
    "TRAINSET_RATIO = 0.8"
   ]
  },
  {
   "cell_type": "code",
   "execution_count": null,
   "metadata": {},
   "outputs": [],
   "source": [
    "def get_quadrant(val: float, aro: float) -> int:\n",
    "    if val >= 0.5 and aro >= 0.5:\n",
    "        return 1\n",
    "    if val >= 0.5 and aro < 0.5:\n",
    "        return 2\n",
    "    if val < 0.5 and aro < 0.5:\n",
    "        return 3\n",
    "    if val < 0.5 and aro >= 0.5:\n",
    "        return 4"
   ]
  },
  {
   "cell_type": "markdown",
   "metadata": {},
   "source": [
    "<hr>"
   ]
  },
  {
   "cell_type": "markdown",
   "metadata": {},
   "source": [
    "# Dataset"
   ]
  },
  {
   "cell_type": "markdown",
   "metadata": {},
   "source": [
    "## Create dataset"
   ]
  },
  {
   "cell_type": "markdown",
   "metadata": {},
   "source": [
    "#### Load data"
   ]
  },
  {
   "cell_type": "code",
   "execution_count": null,
   "metadata": {},
   "outputs": [],
   "source": [
    "AUDIO_FOLDER = \"C:\\\\Users\\\\amity\\\\PycharmProjects\\\\aimpathy\\\\data\\\\PMEmo\\\\PMEmo2019\\\\chorus\"\n",
    "THAYER_ANOTATIONS_CSV = \"C:\\\\Users\\\\amity\\\\PycharmProjects\\\\aimpathy\\\\data\\\\PMEmo\\\\PMEmo2019\\\\annotations\\\\dynamic_annotations.csv\"\n",
    "thayer_annotations_df = pd.read_csv(THAYER_ANOTATIONS_CSV)"
   ]
  },
  {
   "cell_type": "code",
   "execution_count": null,
   "metadata": {},
   "outputs": [],
   "source": [
    "audio_files = [f for f in os.listdir(AUDIO_FOLDER) if isfile(join(AUDIO_FOLDER, f))]\n",
    "audio_data = dict()\n",
    "torch_spectorgrams = dict()\n",
    "spectrogrammer = transforms.MelSpectrogram(sample_rate=RATE, n_fft=(MEL_SPECTROGRAM_BUCKETS * 2 - 2), win_length=MEL_SPECTROGRAM_WINDOW_LENGTH, power=2, normalized=True)"
   ]
  },
  {
   "cell_type": "markdown",
   "metadata": {},
   "source": [
    "#### Convert to Spectrograms"
   ]
  },
  {
   "cell_type": "code",
   "execution_count": null,
   "metadata": {},
   "outputs": [],
   "source": [
    "spectrograms = dict()\n",
    "for audio_file in tqdm(audio_files, total=len(audio_files)):\n",
    "    sound = AudioSegment.from_mp3(os.sep.join([AUDIO_FOLDER, audio_file])).set_channels(1)\n",
    "    audio_file_wave = sound.export(format=\"wav\", bitrate=RATE)\n",
    "    sample_rate, samples = wavfile.read(audio_file_wave)\n",
    "    spectogram = spectrogrammer(torch.from_numpy(samples/(2**15)).float().reshape((1, -1)))\n",
    "    spectrograms[audio_file] = spectogram\n",
    "    audio_file_wave.close()\n",
    "spectrograms = {key: value for key, value in spectrograms.items() if \".wav\" not in key}"
   ]
  },
  {
   "cell_type": "markdown",
   "metadata": {},
   "source": [
    "#### Create final dataset"
   ]
  },
  {
   "cell_type": "code",
   "execution_count": null,
   "metadata": {},
   "outputs": [],
   "source": [
    "dataset = dict()  # music_id: spectrogram, (valence, arousal)\n",
    "for file_name, spectrogram in tqdm(spectrograms.items(), total=len(spectrograms)):\n",
    "    music_id = int(file_name.replace(\".mp3\", \"\"))\n",
    "    dataset[music_id] = list()\n",
    "    max_frame_time = thayer_annotations_df[thayer_annotations_df[\"musicId\"] == music_id][\"frameTime\"].max()\n",
    "    if np.isnan(max_frame_time):    \n",
    "        dataset.pop(music_id)\n",
    "        continue\n",
    "    for i in range(int(CHUNKS_PER_SECOND * max_frame_time)):\n",
    "        data_df = thayer_annotations_df[(thayer_annotations_df[\"musicId\"] == music_id) & (thayer_annotations_df[\"frameTime\"] == i/2)]\n",
    "        if data_df.empty:\n",
    "            #  print(f\"Skipping {musicI_id} - {i/2}\")\n",
    "            continue\n",
    "        valence = data_df.iloc[0][\"Valence(mean)\"]\n",
    "        arousal = data_df.iloc[0][\"Arousal(mean)\"]\n",
    "        dataset[music_id].append((spectrogram[0, :, int((i/2-1)*CHUNK_SIZE_IN_SPECTROS): int((i/2)*CHUNK_SIZE_IN_SPECTROS)], (valence, arousal)))\n",
    "    \n",
    "    if len(dataset[music_id]) <= 0:\n",
    "        dataset.pop(music_id)\n",
    "        \n",
    "music_id_to_quadrant = {key: get_quadrant(np.mean([val[1][0] for val in value]), np.mean([val[1][1] for val in value])) for key, value in dataset.items() if value}\n",
    "quadrant_counters = [list(music_id_to_quadrant.values()).count(i+1) for i in range(4)]\n",
    "quadrant_ratios = max(quadrant_counters)//np.array(quadrant_counters)"
   ]
  },
  {
   "cell_type": "markdown",
   "metadata": {},
   "source": [
    "### Divide to train and test"
   ]
  },
  {
   "cell_type": "code",
   "execution_count": null,
   "metadata": {},
   "outputs": [],
   "source": [
    "train_music_ids = random.sample(dataset.keys(), int(TRAINSET_RATIO*len(dataset)))\n",
    "trainset = {key: value for key, value in dataset.items() if key in train_music_ids}\n",
    "testset = {key: value for key, value in dataset.items() if key not in train_music_ids}"
   ]
  },
  {
   "cell_type": "code",
   "execution_count": null,
   "metadata": {},
   "outputs": [],
   "source": [
    "with open(f'data/datasets/trainset_{int(time.time())}.pk', 'wb') as f:\n",
    "    pickle.dump(list(trainset.keys()), f)\n",
    "with open(f'data/datasets/testset_{int(time.time())}.pk', 'wb') as f:\n",
    "    pickle.dump(list(testset.keys()), f)"
   ]
  },
  {
   "cell_type": "markdown",
   "metadata": {},
   "source": [
    "### Load train and test"
   ]
  },
  {
   "cell_type": "code",
   "execution_count": null,
   "metadata": {},
   "outputs": [],
   "source": [
    "dataset_label = '1674741184'\n",
    "with open(f'data/datasets/trainset_{dataset_label}.pk', 'rb') as f:\n",
    "    trainset_ids = pickle.load(f)\n",
    "    trainset = {key: value for key, value in dataset.items() if key in trainset_ids}\n",
    "with open(f'data/datasets/testset_{dataset_label}.pk', 'rb') as f:\n",
    "    testset_ids = pickle.load(f)\n",
    "    testset = {key: value for key, value in dataset.items() if key in testset_ids}"
   ]
  },
  {
   "cell_type": "code",
   "execution_count": null,
   "metadata": {},
   "outputs": [],
   "source": [
    "trainset_quadrant_to_keys = dict()\n",
    "\n",
    "for music_id in trainset.keys():\n",
    "    quad = music_id_to_quadrant[music_id]\n",
    "    if quad not in trainset_quadrant_to_keys:\n",
    "        trainset_quadrant_to_keys[quad] = list()\n",
    "    trainset_quadrant_to_keys[quad].append(music_id)"
   ]
  },
  {
   "cell_type": "markdown",
   "metadata": {},
   "source": [
    "## Plot spectrogram"
   ]
  },
  {
   "cell_type": "code",
   "execution_count": null,
   "metadata": {},
   "outputs": [],
   "source": [
    "import matplotlib.pyplot as plt\n",
    "import librosa"
   ]
  },
  {
   "cell_type": "code",
   "execution_count": null,
   "metadata": {},
   "outputs": [],
   "source": [
    "def plot_spectrogram(spec, title=None, ylabel=\"freq_bin\", aspect=\"auto\", xmax=None, ymax=None):\n",
    "    fig, axs = plt.subplots(1, 1)\n",
    "    axs.set_title(title or \"Spectrogram (db)\")\n",
    "    axs.set_ylabel(ylabel)\n",
    "    axs.set_xlabel(\"frame\")\n",
    "    im = axs.imshow(librosa.power_to_db(spec), origin=\"lower\", aspect=aspect)\n",
    "    if xmax:\n",
    "        axs.set_xlim((0, xmax))\n",
    "    if ymax:\n",
    "        axs.set_ylim((0, ymax))\n",
    "    fig.colorbar(im, ax=axs)\n",
    "    plt.show(block=False)"
   ]
  },
  {
   "cell_type": "code",
   "execution_count": null,
   "metadata": {},
   "outputs": [],
   "source": [
    "plot_spectrogram(dataset[1000][0], title=\"MelSpectrogram - torchaudio\", ylabel=\"mel freq\")"
   ]
  },
  {
   "cell_type": "markdown",
   "metadata": {},
   "source": [
    "# Model"
   ]
  },
  {
   "cell_type": "markdown",
   "metadata": {},
   "source": [
    "### Load model"
   ]
  },
  {
   "cell_type": "code",
   "execution_count": null,
   "metadata": {},
   "outputs": [],
   "source": [
    "model_name = f'saved_models/AudioLSTMCNN_1675247749_011615362090984925.pt'\n",
    "model_c = AudioLSTMCNN()\n",
    "model_c.load_state_dict(torch.load(model_name));\n",
    "model_c.eval().cuda()\n",
    "print(\"Loaded model\")"
   ]
  },
  {
   "cell_type": "markdown",
   "metadata": {},
   "source": [
    "### Train model"
   ]
  },
  {
   "cell_type": "code",
   "execution_count": null,
   "metadata": {},
   "outputs": [],
   "source": [
    "model_c = AudioLSTMCNN().cuda()"
   ]
  },
  {
   "cell_type": "code",
   "execution_count": null,
   "metadata": {},
   "outputs": [],
   "source": [
    "criterion = nn.MSELoss().cuda()\n",
    "optimizer = torch.optim.Adam(model_c.parameters(), lr=0.0001)\n",
    "scheduler = torch.optim.lr_scheduler.ReduceLROnPlateau(optimizer, 'min', patience = 5, factor=0.5)"
   ]
  },
  {
   "cell_type": "code",
   "execution_count": null,
   "metadata": {
    "scrolled": true
   },
   "outputs": [],
   "source": [
    "start_time = time.time()\n",
    "EPOCS = 50\n",
    "PRINT_MARK = 500\n",
    "BATCH_SIZE = 50\n",
    "STOP_LOSS = 0.01\n",
    "MIN_LEARNING_RATE = 0.000025\n",
    "\n",
    "\n",
    "model_c.train()\n",
    "for epoc in range(EPOCS):\n",
    "    losses = list()\n",
    "    quadrants = list()\n",
    "    real_quadrants = list()\n",
    "    # model_c.hidden = (model_c.hidden[0].cuda(), model_c.hidden[1].cuda())\n",
    "    train_key_sample = [key for keys in [random.sample(trainset_quadrant_to_keys[i+1], BATCH_SIZE//4) for i in range(4)] for key in keys]\n",
    "    random.shuffle(train_key_sample)\n",
    "    train_sample = [datum for sample_key in train_key_sample for datum in trainset[sample_key]]\n",
    "    \n",
    "    for batch_i, (X_train, (valence, arousal)) in enumerate(train_sample):\n",
    "        optimizer.zero_grad()\n",
    "        model_c.hidden = (torch.zeros(model_c.hidden[0].shape).cuda(),\n",
    "                          torch.zeros(model_c.hidden[0].shape).cuda())\n",
    "        \n",
    "        y_train = torch.Tensor((valence, arousal)).cuda()\n",
    "        # Apply the model\n",
    "        y_pred = model_c(X_train.cuda())  # we don't flatten X-train here\n",
    "        loss = criterion(y_pred, y_train)\n",
    "\n",
    "        # Update parameters\n",
    "        loss.backward(retain_graph=True)\n",
    "        optimizer.step()\n",
    "\n",
    "        losses.append(loss.cpu().item())\n",
    "        real_quadrants.append(get_quadrant(y_train[0].item(), y_train[1].item()))\n",
    "        quadrants.append(get_quadrant(y_pred[0].item(), y_pred[1].item()))\n",
    "        \n",
    "        # Print interim results\n",
    "        if (batch_i > 0 or epoc == 0) and batch_i%PRINT_MARK == 0:\n",
    "            print(f'{epoc:2}-{batch_i:4} | loss: {np.mean(losses):.5f}  |  [{quadrants.count(1):4}({real_quadrants.count(1):4}), {quadrants.count(2):4}({real_quadrants.count(2):4}), {quadrants.count(3):4}({real_quadrants.count(3):4}), {quadrants.count(4):4}({real_quadrants.count(4):4})]     lr: {optimizer.param_groups[0][\"lr\"]}')\n",
    "    \n",
    "    scheduler.step(np.mean(losses))\n",
    "\n",
    "    if np.mean(losses) < STOP_LOSS or optimizer.param_groups[0][\"lr\"] < MIN_LEARNING_RATE:\n",
    "        break\n",
    "        \n",
    "print(f'\\nDuration: {time.time() - start_time:.0f} seconds') # print the time elapsed            "
   ]
  },
  {
   "cell_type": "code",
   "execution_count": null,
   "metadata": {},
   "outputs": [],
   "source": [
    "latest_model_name = f'saved_models/AudioLSTMCNN_{int(time.time())}_{str(np.mean(losses))[2:]}.pt'\n",
    "torch.save(model_c.state_dict(), latest_model_name)\n",
    "print(f\"Saved model {latest_model_name}\")"
   ]
  },
  {
   "cell_type": "markdown",
   "metadata": {},
   "source": [
    "### Test model"
   ]
  },
  {
   "cell_type": "code",
   "execution_count": null,
   "metadata": {},
   "outputs": [],
   "source": [
    "losses = list()\n",
    "quadrants = list()\n",
    "\n",
    "model_c.eval().cuda()\n",
    "with torch.no_grad():\n",
    "    model_c.hidden = (model_c.hidden[0].cuda(), model_c.hidden[1].cuda())\n",
    "    test_sample = [datum for key, value in testset.items() for datum in value]\n",
    "    for batch_i, (X_test, (valence, arousal)) in tqdm(enumerate(test_sample), total=len(test_sample)):\n",
    "        y_test = torch.Tensor((valence, arousal)).cuda()\n",
    "        # Apply the model\n",
    "#         model_c.hidden = (torch.zeros(model_c.hidden[0].shape).cuda(),\n",
    "#                           torch.zeros(model_c.hidden[0].shape).cuda())\n",
    "        \n",
    "        y_val = model_c(X_test.cuda())\n",
    "        loss = criterion(y_val, y_test)\n",
    "        losses.append(loss.cpu())\n",
    "        quadrants.append((get_quadrant(y_val[0].item(), y_val[1].item()), get_quadrant(y_test[0].item(), y_test[1].item())))"
   ]
  },
  {
   "cell_type": "code",
   "execution_count": null,
   "metadata": {},
   "outputs": [],
   "source": [
    "print(f\"Mean: {np.mean(losses):.5f}, median: {np.median(losses):.5f}\")"
   ]
  },
  {
   "cell_type": "code",
   "execution_count": null,
   "metadata": {},
   "outputs": [],
   "source": [
    "print(confusion_matrix([a[0] for a in quadrants], [a[1] for a in quadrants]))\n",
    "print(\"\\n\")\n",
    "print(classification_report([a[0] for a in quadrants], [a[1] for a in quadrants]))"
   ]
  },
  {
   "cell_type": "code",
   "execution_count": null,
   "metadata": {},
   "outputs": [],
   "source": [
    "np.mean([np.abs(val[1][1]-val[1][0]) for key, values in trainset.items() for val in values])"
   ]
  },
  {
   "cell_type": "markdown",
   "metadata": {},
   "source": [
    "#### Inspect quadrants"
   ]
  },
  {
   "cell_type": "code",
   "execution_count": null,
   "metadata": {},
   "outputs": [],
   "source": [
    "testset.keys()"
   ]
  },
  {
   "cell_type": "code",
   "execution_count": null,
   "metadata": {},
   "outputs": [],
   "source": [
    "test_index = 519\n",
    "test_location = 0\n",
    "\n",
    "with torch.no_grad():\n",
    "    pred = model_c(testset[test_index][test_location][0].cuda()).cpu()\n",
    "print(pred)\n",
    "print([denormalize(a.item()) for a in pred])\n",
    "print(testset[test_index][test_location][1])"
   ]
  },
  {
   "cell_type": "code",
   "execution_count": null,
   "metadata": {},
   "outputs": [],
   "source": [
    "[(key, value[0][1]) for key, value in testset.items() if value and value[0][1] < (0.5, 0.5)]"
   ]
  },
  {
   "cell_type": "markdown",
   "metadata": {},
   "source": [
    "## Random results classifier"
   ]
  },
  {
   "cell_type": "markdown",
   "metadata": {},
   "source": [
    "#### Random vs. testset"
   ]
  },
  {
   "cell_type": "code",
   "execution_count": null,
   "metadata": {},
   "outputs": [],
   "source": [
    "losses = list()\n",
    "\n",
    "test_sample = [datum for key, value in testset.items() for datum in value]\n",
    "for batch_i, (X_test, (valence, arousal)) in tqdm(enumerate(test_sample), total=len(test_sample)):\n",
    "    y_test = torch.Tensor((valence, arousal)).cuda()\n",
    "    y_val = torch.Tensor((random.random(), random.random())).cuda()\n",
    "    loss = criterion(y_val, y_test)\n",
    "    losses.append(loss.cpu())"
   ]
  },
  {
   "cell_type": "code",
   "execution_count": null,
   "metadata": {},
   "outputs": [],
   "source": [
    "print(f\"Mean: {np.mean(losses):.5f}, median: {np.median(losses):.5f}\")"
   ]
  },
  {
   "cell_type": "markdown",
   "metadata": {},
   "source": [
    "#### Random vs. Random"
   ]
  },
  {
   "cell_type": "code",
   "execution_count": null,
   "metadata": {},
   "outputs": [],
   "source": [
    "losses = list()\n",
    "\n",
    "test_sample = [datum for key, value in testset.items() for datum in value]\n",
    "for batch_i, (X_test, (valence, arousal)) in tqdm(enumerate(test_sample), total=len(test_sample)):\n",
    "    y_test = torch.Tensor((random.random(), random.random())).cuda()\n",
    "    y_val = torch.Tensor((random.random(), random.random())).cuda()\n",
    "    loss = criterion(y_val, y_test)\n",
    "    losses.append(loss.cpu())"
   ]
  },
  {
   "cell_type": "code",
   "execution_count": null,
   "metadata": {},
   "outputs": [],
   "source": [
    "print(f\"Mean: {np.mean(losses):.5f}, median: {np.median(losses):.5f}\")"
   ]
  },
  {
   "cell_type": "markdown",
   "metadata": {},
   "source": [
    "<hr>"
   ]
  },
  {
   "cell_type": "markdown",
   "metadata": {},
   "source": [
    "# Research machine factors"
   ]
  },
  {
   "cell_type": "code",
   "execution_count": null,
   "metadata": {},
   "outputs": [],
   "source": [
    "def get_spectograms(file_name: str):\n",
    "    sample_rate, samples = wavfile.read(os.sep.join([\"data\", \"test_audio\", file_name]))\n",
    "    spectrogram = spectrogrammer(torch.from_numpy(samples/(2**15)).float().reshape((1, -1)))\n",
    "    audio_file_wave.close()\n",
    "    chunked_spectograms = [spectrogram[0, :, int((i/2-1)*CHUNK_SIZE_IN_SPECTROS): int((i/2)*CHUNK_SIZE_IN_SPECTROS)] for i in range(spectogram.shape[2]//CHUNK_SIZE_IN_SPECTROS)]\n",
    "    return chunked_spectograms"
   ]
  },
  {
   "cell_type": "code",
   "execution_count": null,
   "metadata": {},
   "outputs": [],
   "source": [
    "def test_spectrograms(spetrograms_to_test, use_memory = True):\n",
    "    valence_values = list()\n",
    "    arousal_values = list()\n",
    "\n",
    "    with torch.no_grad():\n",
    "        model_c.hidden = (model_c.hidden[0].cuda(), model_c.hidden[1].cuda())\n",
    "        if use_memory:\n",
    "            model_c.hidden = (torch.zeros(model_c.hidden[0].shape).cuda(),\n",
    "                              torch.zeros(model_c.hidden[0].shape).cuda())\n",
    "        for ind, X_test in tqdm(enumerate(spetrograms_to_test), total=len(spetrograms_to_test)):\n",
    "            if X_test.shape[1] < CHUNK_SIZE_IN_SPECTROS:\n",
    "                continue\n",
    "            if use_memory:\n",
    "                model_c.hidden = (torch.zeros(model_c.hidden[0].shape).cuda(),\n",
    "                                  torch.zeros(model_c.hidden[0].shape).cuda())\n",
    "            y_val = model_c(X_test.cuda())\n",
    "            valence_values.append(y_val[0].item())\n",
    "            arousal_values.append(y_val[1].item())\n",
    "    \n",
    "    return valence_values, arousal_values"
   ]
  },
  {
   "cell_type": "code",
   "execution_count": null,
   "metadata": {},
   "outputs": [],
   "source": [
    "def note_to_freq(note, concert_A=440.0):\n",
    "    return (2.0 ** ((note - 69) / 12.0)) * concert_A"
   ]
  },
  {
   "cell_type": "code",
   "execution_count": null,
   "metadata": {},
   "outputs": [],
   "source": [
    "def plot_thayer_model(valence_values, arousal_values, title, x_values = None, x_label = None):\n",
    "    x_label = x_label if x_label else 'Time [sec]'\n",
    "    x_values = list(range(len(valence_values))) if not x_values else x_values\n",
    "    fig, axes = plt.subplot_mosaic(\"AB\", figsize=(20, 5))\n",
    "    ax_valence, ax_arousal = axes.values()\n",
    "    ax_valence.set_title(f'Valence - {title}')\n",
    "    ax_valence.set_xlabel(x_label)\n",
    "    ax_valence.set_ylabel('Valence')\n",
    "#     ax_valence.set_ylim(0, 1)\n",
    "#     ax_valence.set_xlim(0, 1)\n",
    "    valence_line, = ax_valence.plot(x_values, valence_values, '-', lw=1)\n",
    "\n",
    "    ax_arousal.set_title(f'Arousal - {title}')\n",
    "    ax_arousal.set_xlabel(x_label)\n",
    "    ax_arousal.set_ylabel('Arousal')\n",
    "#     ax_arousal.set_ylim(0, 1)\n",
    "#     ax_arousal.set_xlim(0, 1)\n",
    "    arousal_line, = ax_arousal.plot(x_values, arousal_values, '-', lw=1)"
   ]
  },
  {
   "cell_type": "code",
   "execution_count": null,
   "metadata": {},
   "outputs": [],
   "source": [
    "model_c.eval().cuda()\n",
    "print(\"In EVAL mode\")"
   ]
  },
  {
   "cell_type": "markdown",
   "metadata": {},
   "source": [
    "#### Chromatic scale down"
   ]
  },
  {
   "cell_type": "code",
   "execution_count": null,
   "metadata": {},
   "outputs": [],
   "source": [
    "chromatic_scale_down_spectograms = get_spectograms(\"chromatic_scale_down.wav\")"
   ]
  },
  {
   "cell_type": "code",
   "execution_count": null,
   "metadata": {
    "scrolled": false
   },
   "outputs": [],
   "source": [
    "valence_values, arousal_values = test_spectrograms(chromatic_scale_down_spectograms, use_memory=True)\n",
    "x_values = [note_to_freq(110-note) for note in range(len(valence_values))]\n",
    "plot_thayer_model(valence_values, arousal_values, \"chromatic scale down - memory\", x_values=x_values, x_label='Frequency [Hz]')\n",
    "valence_values, arousal_values = test_spectrograms(chromatic_scale_down_spectograms, use_memory=False)\n",
    "plot_thayer_model(valence_values, arousal_values, \"chromatic scale down - no memory\", x_values=x_values, x_label='Frequency [Hz]')"
   ]
  },
  {
   "cell_type": "markdown",
   "metadata": {},
   "source": [
    "#### Chromatic scale up"
   ]
  },
  {
   "cell_type": "code",
   "execution_count": null,
   "metadata": {},
   "outputs": [],
   "source": [
    "chromatic_scale_up_spectograms = get_spectograms(\"chromatic_scale_up.wav\")"
   ]
  },
  {
   "cell_type": "code",
   "execution_count": null,
   "metadata": {},
   "outputs": [],
   "source": [
    "valence_values, arousal_values = test_spectrograms(chromatic_scale_up_spectograms, use_memory=True)\n",
    "x_values = [note_to_freq(40+note) for note in range(len(valence_values))]\n",
    "plot_thayer_model(valence_values, arousal_values, \"chromatic scale up - memory\", x_values=x_values, x_label='Frequency [Hz]')\n",
    "valence_values, arousal_values = test_spectrograms(chromatic_scale_up_spectograms, use_memory=False)\n",
    "plot_thayer_model(valence_values, arousal_values, \"chromatic scale up - no memory\", x_values=x_values, x_label='Frequency [Hz]')"
   ]
  },
  {
   "cell_type": "markdown",
   "metadata": {},
   "source": [
    "#### Chromatic double scale down"
   ]
  },
  {
   "cell_type": "code",
   "execution_count": null,
   "metadata": {},
   "outputs": [],
   "source": [
    "chromatic_double_scale_down_spectograms = get_spectograms(\"chromatic_double_scale_down.wav\")"
   ]
  },
  {
   "cell_type": "code",
   "execution_count": null,
   "metadata": {
    "scrolled": false
   },
   "outputs": [],
   "source": [
    "valence_values, arousal_values = test_spectrograms(chromatic_double_scale_down_spectograms, use_memory=True)\n",
    "x_values = [note_to_freq(110-note//2) for note in range(len(valence_values))]\n",
    "plot_thayer_model(valence_values, arousal_values, \"chromatic double scale down - memory\", x_values=x_values, x_label='Frequency [Hz]')\n",
    "valence_values, arousal_values = test_spectrograms(chromatic_double_scale_down_spectograms, use_memory=False)\n",
    "plot_thayer_model(valence_values, arousal_values, \"chromatic double scale down - no memory\", x_values=x_values, x_label='Frequency [Hz]')"
   ]
  },
  {
   "cell_type": "markdown",
   "metadata": {},
   "source": [
    "#### Chromatic double scale up"
   ]
  },
  {
   "cell_type": "code",
   "execution_count": null,
   "metadata": {},
   "outputs": [],
   "source": [
    "chromatic_double_scale_up_spectograms = get_spectograms(\"chromatic_double_scale_up.wav\")"
   ]
  },
  {
   "cell_type": "code",
   "execution_count": null,
   "metadata": {},
   "outputs": [],
   "source": [
    "valence_values, arousal_values = test_spectrograms(chromatic_double_scale_up_spectograms, use_memory=True)\n",
    "x_values = [note_to_freq(110-note//2) for note in range(len(valence_values))]\n",
    "plot_thayer_model(valence_values, arousal_values, \"chromatic double scale up - memory\", x_values=x_values, x_label='Frequency [Hz]')\n",
    "valence_values, arousal_values = test_spectrograms(chromatic_double_scale_up_spectograms, use_memory=False)\n",
    "plot_thayer_model(valence_values, arousal_values, \"chromatic double scale up - no memory\", x_values=x_values, x_label='Frequency [Hz]')"
   ]
  },
  {
   "cell_type": "markdown",
   "metadata": {},
   "source": [
    "#### Chromatic 4 scale down"
   ]
  },
  {
   "cell_type": "code",
   "execution_count": null,
   "metadata": {},
   "outputs": [],
   "source": [
    "chromatic_4_scale_down_spectograms = get_spectograms(\"chromatic_4_scale_down.wav\")"
   ]
  },
  {
   "cell_type": "code",
   "execution_count": null,
   "metadata": {
    "scrolled": false
   },
   "outputs": [],
   "source": [
    "valence_values, arousal_values = test_spectrograms(chromatic_4_scale_down_spectograms, use_memory=True)\n",
    "x_values = None  # [note_to_freq(110-note//2) for note in range(len(valence_values))]\n",
    "x_label = None # 'Frequency [Hz]'\n",
    "plot_thayer_model(valence_values, arousal_values, \"chromatic 4 scale down - memory\", x_values=x_values, x_label=x_label)\n",
    "valence_values, arousal_values = test_spectrograms(chromatic_4_scale_down_spectograms, use_memory=False)\n",
    "plot_thayer_model(valence_values, arousal_values, \"chromatic 4 scale down - no memory\", x_values=x_values, x_label=x_label)"
   ]
  },
  {
   "cell_type": "markdown",
   "metadata": {},
   "source": [
    "#### Chromatic 4 scale up"
   ]
  },
  {
   "cell_type": "code",
   "execution_count": null,
   "metadata": {},
   "outputs": [],
   "source": [
    "chromatic_4_scale_up_spectograms = get_spectograms(\"chromatic_4_scale_up.wav\")"
   ]
  },
  {
   "cell_type": "code",
   "execution_count": null,
   "metadata": {},
   "outputs": [],
   "source": [
    "valence_values, arousal_values = test_spectrograms(chromatic_4_scale_up_spectograms, use_memory=True)\n",
    "x_values = None  # [note_to_freq(110-note//2) for note in range(len(valence_values))]\n",
    "x_label = None # 'Frequency [Hz]'\n",
    "plot_thayer_model(valence_values, arousal_values, \"chromatic 4 scale up - memory\", x_values=x_values, x_label=x_label)\n",
    "valence_values, arousal_values = test_spectrograms(chromatic_4_scale_up_spectograms, use_memory=False)\n",
    "plot_thayer_model(valence_values, arousal_values, \"chromatic 4 scale up - no memory\", x_values=x_values, x_label=x_label)"
   ]
  },
  {
   "cell_type": "markdown",
   "metadata": {},
   "source": [
    "#### One tone A"
   ]
  },
  {
   "cell_type": "code",
   "execution_count": null,
   "metadata": {},
   "outputs": [],
   "source": [
    "one_tone_A_spectograms = get_spectograms(\"one_tone_A.wav\")"
   ]
  },
  {
   "cell_type": "code",
   "execution_count": null,
   "metadata": {},
   "outputs": [],
   "source": [
    "valence_values, arousal_values = test_spectrograms(one_tone_A_spectograms, use_memory=True)\n",
    "plot_thayer_model(valence_values, arousal_values, \"continuous A - memory\")\n",
    "valence_values, arousal_values = test_spectrograms(one_tone_A_spectograms, use_memory=False)\n",
    "plot_thayer_model(valence_values, arousal_values, \"continuous A - no memory\")"
   ]
  },
  {
   "cell_type": "markdown",
   "metadata": {},
   "source": [
    "#### One tone C"
   ]
  },
  {
   "cell_type": "code",
   "execution_count": null,
   "metadata": {},
   "outputs": [],
   "source": [
    "one_tone_C_spectograms = get_spectograms(\"one_tone_C.wav\")"
   ]
  },
  {
   "cell_type": "code",
   "execution_count": null,
   "metadata": {},
   "outputs": [],
   "source": [
    "valence_values, arousal_values = test_spectrograms(one_tone_C_spectograms, use_memory=True)\n",
    "plot_thayer_model(valence_values, arousal_values, \"continuous C - memory\")\n",
    "valence_values, arousal_values = test_spectrograms(one_tone_C_spectograms, use_memory=False)\n",
    "plot_thayer_model(valence_values, arousal_values, \"continuous C - no memory\")"
   ]
  },
  {
   "cell_type": "code",
   "execution_count": null,
   "metadata": {},
   "outputs": [],
   "source": []
  }
 ],
 "metadata": {
  "kernelspec": {
   "display_name": "aimpathy",
   "language": "python",
   "name": "aimpathy"
  },
  "language_info": {
   "codemirror_mode": {
    "name": "ipython",
    "version": 3
   },
   "file_extension": ".py",
   "mimetype": "text/x-python",
   "name": "python",
   "nbconvert_exporter": "python",
   "pygments_lexer": "ipython3",
   "version": "3.8.13"
  }
 },
 "nbformat": 4,
 "nbformat_minor": 4
}

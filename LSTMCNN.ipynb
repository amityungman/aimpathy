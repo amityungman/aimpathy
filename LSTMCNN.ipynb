{
 "cells": [
  {
   "cell_type": "code",
   "execution_count": 4,
   "metadata": {},
   "outputs": [],
   "source": [
    "import torch\n",
    "from torch import nn"
   ]
  },
  {
   "cell_type": "markdown",
   "metadata": {},
   "source": [
    "# LSTM basic"
   ]
  },
  {
   "cell_type": "code",
   "execution_count": 5,
   "metadata": {},
   "outputs": [],
   "source": [
    "batch_size = 64\n",
    "seq_length = 10\n",
    "num_directions = 1  # If the LSTM is bidirectional, num_directions should be 2, else it should be 1.\n",
    "num_layers = 1\n",
    "\n",
    "input_size = 10\n",
    "hidden_size = 20  # Hidden size is number of features of the hidden state for RNN."
   ]
  },
  {
   "cell_type": "code",
   "execution_count": 6,
   "metadata": {},
   "outputs": [
    {
     "name": "stdout",
     "output_type": "stream",
     "text": [
      "output: torch.Size([64, 10, 20])\n",
      "hn: torch.Size([1, 64, 20])\n",
      "cn: torch.Size([1, 64, 20])\n"
     ]
    }
   ],
   "source": [
    "rnn = nn.LSTM(input_size, hidden_size, num_layers, batch_first=True)\n",
    "input = torch.randn(batch_size, seq_length, input_size)\n",
    "h0 = torch.randn(num_directions*num_layers, batch_size, hidden_size)\n",
    "c0 = torch.randn(num_directions*num_layers, batch_size, hidden_size)\n",
    "output, (hn, cn) = rnn(input, (h0, c0))\n",
    "\n",
    "print(f'output: {output.size()}')\n",
    "print(f'hn: {hn.size()}')\n",
    "print(f'cn: {cn.size()}')"
   ]
  },
  {
   "cell_type": "code",
   "execution_count": null,
   "metadata": {},
   "outputs": [],
   "source": []
  }
 ],
 "metadata": {
  "kernelspec": {
   "display_name": "aimpathy",
   "language": "python",
   "name": "aimpathy"
  },
  "language_info": {
   "codemirror_mode": {
    "name": "ipython",
    "version": 3
   },
   "file_extension": ".py",
   "mimetype": "text/x-python",
   "name": "python",
   "nbconvert_exporter": "python",
   "pygments_lexer": "ipython3",
   "version": "3.8.13"
  }
 },
 "nbformat": 4,
 "nbformat_minor": 4
}

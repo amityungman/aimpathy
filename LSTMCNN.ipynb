{
 "cells": [
  {
   "cell_type": "code",
   "execution_count": 196,
   "metadata": {},
   "outputs": [
    {
     "name": "stdout",
     "output_type": "stream",
     "text": [
      "cuda:0\n"
     ]
    }
   ],
   "source": [
    "from typing import Tuple\n",
    "import pandas as pd\n",
    "from tqdm import tqdm\n",
    "import os\n",
    "import time\n",
    "import random\n",
    "import numpy as np\n",
    "from os.path import isfile, join\n",
    "from pydub import AudioSegment\n",
    "from scipy.io import wavfile\n",
    "\n",
    "import torch\n",
    "from torch import nn\n",
    "from torchaudio import transforms\n",
    "\n",
    "device = torch.device(\"cuda:0\" if torch.cuda.is_available() else \"cpu\")\n",
    "print(device)"
   ]
  },
  {
   "cell_type": "markdown",
   "metadata": {},
   "source": [
    "# Constants"
   ]
  },
  {
   "cell_type": "code",
   "execution_count": 46,
   "metadata": {},
   "outputs": [],
   "source": [
    "RATE = 44100\n",
    "MEL_SPECTROGRAM_BUCKETS = 128\n",
    "MEL_SPECTROGRAM_WINDOW_LENGTH = 224\n",
    "SPECTROS_PER_SECOND = RATE // (MEL_SPECTROGRAM_WINDOW_LENGTH / 2) - 1\n",
    "CHUNKS_PER_SECOND = 2\n",
    "CHUNK_SIZE_IN_SPECTROS = int(SPECTROS_PER_SECOND // CHUNKS_PER_SECOND)\n",
    "\n",
    "TRAINSET_RATIO = 0.75"
   ]
  },
  {
   "cell_type": "markdown",
   "metadata": {},
   "source": [
    "# LSTM basic"
   ]
  },
  {
   "cell_type": "code",
   "execution_count": null,
   "metadata": {},
   "outputs": [],
   "source": [
    "batch_size = 64\n",
    "seq_length = 10\n",
    "num_directions = 1  # If the LSTM is bidirectional, num_directions should be 2, else it should be 1.\n",
    "num_layers = 1\n",
    "\n",
    "input_size = 10\n",
    "hidden_size = 20  # Hidden size is number of features of the hidden state for RNN."
   ]
  },
  {
   "cell_type": "code",
   "execution_count": null,
   "metadata": {},
   "outputs": [],
   "source": [
    "rnn = nn.LSTM(input_size, hidden_size, num_layers, batch_first=True)\n",
    "input = torch.randn(batch_size, seq_length, input_size)\n",
    "h0 = torch.randn(num_directions*num_layers, batch_size, hidden_size)\n",
    "c0 = torch.randn(num_directions*num_layers, batch_size, hidden_size)\n",
    "output, (hn, cn) = rnn(input, (h0, c0))\n",
    "\n",
    "print(f'output: {output.size()}')\n",
    "print(f'hn: {hn.size()}')\n",
    "print(f'cn: {cn.size()}')"
   ]
  },
  {
   "cell_type": "markdown",
   "metadata": {},
   "source": [
    "<hr>"
   ]
  },
  {
   "cell_type": "markdown",
   "metadata": {},
   "source": [
    "# Dataset"
   ]
  },
  {
   "cell_type": "code",
   "execution_count": 3,
   "metadata": {},
   "outputs": [],
   "source": [
    "AUDIO_FOLDER = \"C:\\\\Users\\\\amity\\\\PycharmProjects\\\\aimpathy\\\\data\\\\PMEmo\\\\PMEmo2019\\\\chorus\"\n",
    "THAYER_ANOTATIONS_CSV = \"C:\\\\Users\\\\amity\\\\PycharmProjects\\\\aimpathy\\\\data\\\\PMEmo\\\\PMEmo2019\\\\annotations\\\\dynamic_annotations.csv\"\n",
    "thayer_annotations_df = pd.read_csv(THAYER_ANOTATIONS_CSV)"
   ]
  },
  {
   "cell_type": "code",
   "execution_count": 4,
   "metadata": {},
   "outputs": [
    {
     "name": "stderr",
     "output_type": "stream",
     "text": [
      "C:\\Users\\amity\\Anaconda3\\envs\\aimpathy\\lib\\site-packages\\torchaudio\\functional\\functional.py:539: UserWarning: At least one mel filterbank has all zero values. The value for `n_mels` (128) may be set too high. Or, the value for `n_freqs` (128) may be set too low.\n",
      "  warnings.warn(\n"
     ]
    }
   ],
   "source": [
    "audio_files = [f for f in os.listdir(AUDIO_FOLDER) if isfile(join(AUDIO_FOLDER, f))]\n",
    "audio_data = dict()\n",
    "torch_spectorgrams = dict()\n",
    "spectorgrammer = transforms.MelSpectrogram(sample_rate=RATE, n_fft=(MEL_SPECTROGRAM_BUCKETS * 2 - 2), win_length=MEL_SPECTROGRAM_WINDOW_LENGTH, power=2, normalized=True)"
   ]
  },
  {
   "cell_type": "code",
   "execution_count": 6,
   "metadata": {},
   "outputs": [
    {
     "name": "stderr",
     "output_type": "stream",
     "text": [
      "100%|██████████████████████████████████████████████████████████████████████████████████████████████| 794/794 [03:11<00:00,  4.15it/s]\n"
     ]
    }
   ],
   "source": [
    "spectrograms = dict()\n",
    "for audio_file in tqdm(audio_files, total=len(audio_files)):\n",
    "    sound = AudioSegment.from_mp3(os.sep.join([AUDIO_FOLDER, audio_file])).set_channels(1)\n",
    "    audio_file_wave = sound.export(format=\"wav\", bitrate=RATE)\n",
    "    sample_rate, samples = wavfile.read(audio_file_wave)\n",
    "    spectogram = spectorgrammer(torch.from_numpy(samples/(2**15)).float().reshape((1, -1)))\n",
    "    spectrograms[audio_file] = spectogram\n",
    "    audio_file_wave.close()\n",
    "spectrograms = {key: value for key, value in spectrograms.items() if \".wav\" not in key}"
   ]
  },
  {
   "cell_type": "code",
   "execution_count": 195,
   "metadata": {},
   "outputs": [
    {
     "name": "stderr",
     "output_type": "stream",
     "text": [
      "100%|██████████████████████████████████████████████████████████████████████████████████████████████| 793/793 [01:48<00:00,  7.30it/s]\n"
     ]
    }
   ],
   "source": [
    "dataset = list()  # spectrogram, (valence, arousal)\n",
    "for file_name, spectrogram in tqdm(spectrograms.items(), total=len(spectrograms)):\n",
    "    music_id = int(file_name.replace(\".mp3\", \"\"))\n",
    "    max_frame_time = thayer_annotations_df[thayer_annotations_df[\"musicId\"] == music_id][\"frameTime\"].max()\n",
    "    if np.isnan(max_frame_time):\n",
    "        # print(f\"Skipping {music_id}\")\n",
    "        continue\n",
    "    for i in range(int(CHUNKS_PER_SECOND * max_frame_time)):\n",
    "        data_df = thayer_annotations_df[(thayer_annotations_df[\"musicId\"] == music_id) & (thayer_annotations_df[\"frameTime\"] == i/2)]\n",
    "        if data_df.empty:\n",
    "            #  print(f\"Skipping {musicI_id} - {i/2}\")\n",
    "            continue\n",
    "        valence = data_df.iloc[0][\"Valence(mean)\"]\n",
    "        arousal = data_df.iloc[0][\"Arousal(mean)\"]\n",
    "        dataset.append((spectrogram[0, :, int((i/2-1)*CHUNK_SIZE_IN_SPECTROS): int((i/2)*CHUNK_SIZE_IN_SPECTROS)], (valence*2-1, arousal*2-1)))"
   ]
  },
  {
   "cell_type": "code",
   "execution_count": 182,
   "metadata": {},
   "outputs": [
    {
     "data": {
      "text/plain": [
       "(torch.Size([128, 196]), torch.Size([128, 196]))"
      ]
     },
     "execution_count": 182,
     "metadata": {},
     "output_type": "execute_result"
    }
   ],
   "source": [
    "min([row[0].shape for row in dataset]), max([row[0].shape for row in dataset])"
   ]
  },
  {
   "cell_type": "code",
   "execution_count": 183,
   "metadata": {},
   "outputs": [],
   "source": [
    "random.shuffle(dataset)\n",
    "trainset = [datum for datum in dataset[:int(TRAINSET_RATIO*len(dataset))]]\n",
    "testset = [datum for datum in dataset[int(TRAINSET_RATIO*len(dataset)):]]"
   ]
  },
  {
   "cell_type": "markdown",
   "metadata": {},
   "source": [
    "### Plot spectrogram"
   ]
  },
  {
   "cell_type": "code",
   "execution_count": 35,
   "metadata": {},
   "outputs": [],
   "source": [
    "import matplotlib.pyplot as plt\n",
    "import librosa"
   ]
  },
  {
   "cell_type": "code",
   "execution_count": 36,
   "metadata": {},
   "outputs": [],
   "source": [
    "def plot_spectrogram(spec, title=None, ylabel=\"freq_bin\", aspect=\"auto\", xmax=None, ymax=None):\n",
    "    fig, axs = plt.subplots(1, 1)\n",
    "    axs.set_title(title or \"Spectrogram (db)\")\n",
    "    axs.set_ylabel(ylabel)\n",
    "    axs.set_xlabel(\"frame\")\n",
    "    im = axs.imshow(librosa.power_to_db(spec), origin=\"lower\", aspect=aspect)\n",
    "    if xmax:\n",
    "        axs.set_xlim((0, xmax))\n",
    "    if ymax:\n",
    "        axs.set_ylim((0, ymax))\n",
    "    fig.colorbar(im, ax=axs)\n",
    "    plt.show(block=False)"
   ]
  },
  {
   "cell_type": "code",
   "execution_count": 41,
   "metadata": {},
   "outputs": [
    {
     "data": {
      "image/png": "[encoded data removed]",
      "text/plain": [
       "<Figure size 432x288 with 2 Axes>"
      ]
     },
     "metadata": {
      "needs_background": "light"
     },
     "output_type": "display_data"
    }
   ],
   "source": [
    "plot_spectrogram(dataset[1000][0], title=\"MelSpectrogram - torchaudio\", ylabel=\"mel freq\")"
   ]
  },
  {
   "cell_type": "markdown",
   "metadata": {},
   "source": [
    "# AudioLSTMCNN"
   ]
  },
  {
   "cell_type": "code",
   "execution_count": 336,
   "metadata": {},
   "outputs": [],
   "source": [
    "class AudioLSTMCNN(nn.Module):      \n",
    "    def __init__(self, input_shape: Tuple[int, int], out_size: int = 2, cnn_channels: int = 64):\n",
    "        \"\"\"\n",
    "        :param input_shape: (X, Y). For a spectogram with 128 buckets and chunk size of 196, will be (128, 196)\n",
    "        \"\"\"\n",
    "        # call the parent constructor\n",
    "        super(AudioLSTMCNN, self).__init__()\n",
    "        \n",
    "        self.conv11 = nn.Conv2d(in_channels=1, out_channels=cnn_channels, kernel_size=(3, 3), stride=(1, 1), padding=1)\n",
    "        self.relu11 = nn.ReLU()\n",
    "        self.conv12 = nn.Conv2d(in_channels=cnn_channels, out_channels=cnn_channels, kernel_size=(3, 3), stride=(1, 1), padding=1)\n",
    "        self.relu12 = nn.ReLU()\n",
    "        self.maxpool1 = nn.MaxPool2d(kernel_size=(2, 2), stride=(2, 2))\n",
    "        \n",
    "        self.conv21 = nn.Conv2d(in_channels=cnn_channels, out_channels=cnn_channels, kernel_size=(3, 3), stride=(1, 1), padding=1)\n",
    "        self.relu21 = nn.ReLU()\n",
    "        self.conv22 = nn.Conv2d(in_channels=cnn_channels, out_channels=cnn_channels, kernel_size=(3, 3), stride=(1, 1), padding=1)\n",
    "        self.relu22 = nn.ReLU()\n",
    "        self.maxpool2 = nn.MaxPool2d(kernel_size=(2, 2), stride=(2, 2))\n",
    "        \n",
    "        self.conv3 = nn.Conv2d(in_channels=cnn_channels, out_channels=cnn_channels * 2, kernel_size=(3, 3), stride=(1, 1), padding=1)\n",
    "        self.relu3 = nn.ReLU()\n",
    "        self.maxpool3 = nn.MaxPool2d(kernel_size=(3, 3), stride=(3, 3))\n",
    "        self.dropout3 = nn.Dropout(p=0.25)\n",
    "        \n",
    "        self.conv4 = nn.Conv2d(in_channels=cnn_channels * 2, out_channels=cnn_channels * 4, kernel_size=(3, 3), stride=(1, 1), padding=1)\n",
    "        self.relu4 = nn.ReLU()\n",
    "        self.maxpool4 = nn.MaxPool2d(kernel_size=(3, 3), stride=(3, 3))\n",
    "        self.dropout4 = nn.Dropout(p=0.25)\n",
    "        \n",
    "        self.conv5 = nn.Conv2d(in_channels=cnn_channels * 4, out_channels=cnn_channels * 4, kernel_size=(3, 3), stride=(1, 1), padding=1)\n",
    "        self.relu5 = nn.ReLU()\n",
    "        self.maxpool5 = nn.MaxPool2d(kernel_size=(3, 3), stride=(3, 3))\n",
    "        self.dropout5 = nn.Dropout(p=0.25)\n",
    "        \n",
    "        self.lstm6 = nn.LSTM(cnn_channels * 4, cnn_channels * 4, batch_first=True)\n",
    "        self.hidden = (torch.zeros(1, 1 , cnn_channels * 4),\n",
    "                       torch.zeros(1, 1 , cnn_channels * 4))\n",
    "        self.fc6 = nn.Linear(in_features=cnn_channels * 4, out_features=cnn_channels * 4)\n",
    "        self.dropout6 = nn.Dropout(p=0.5)\n",
    "        \n",
    "        self.fc7 = nn.Linear(in_features=cnn_channels * 4, out_features=cnn_channels * 4)\n",
    "        self.dropout7 = nn.Dropout(p=0.5)\n",
    "        \n",
    "        self.fc8 = nn.Linear(in_features=cnn_channels * 4, out_features=2)\n",
    "        self.final = nn.Tanh()\n",
    "  \n",
    "        \n",
    "    def forward(self, x):\n",
    "        x = x.reshape((1, 1, x.shape[0], -1))\n",
    "        \n",
    "        x = self.conv11(x)\n",
    "        x = self.relu11(x)\n",
    "        x = self.conv12(x)\n",
    "        x = self.relu12(x)\n",
    "        x = self.maxpool1(x)\n",
    "        \n",
    "        x = self.conv21(x)\n",
    "        x = self.relu21(x)\n",
    "        x = self.conv22(x)\n",
    "        x = self.relu22(x)\n",
    "        x = self.maxpool2(x)\n",
    "        \n",
    "        x = self.conv3(x)\n",
    "        x = self.relu3(x)\n",
    "        x = self.maxpool3(x)\n",
    "        x = self.dropout3(x)\n",
    "        \n",
    "        x = self.conv4(x)\n",
    "        x = self.relu4(x)\n",
    "        x = self.maxpool4(x)\n",
    "        x = self.dropout4(x)\n",
    "        \n",
    "        x = self.conv5(x)\n",
    "        x = self.relu5(x)\n",
    "        x = self.maxpool5(x)\n",
    "        x = self.dropout5(x)\n",
    "        \n",
    "        x = x.view(x.size(0), x.size(1), -1)\n",
    "        x = x.permute(0, 2, 1)   \n",
    "        \n",
    "        x, self.hidden = self.lstm6(x, self.hidden)\n",
    "        x = self.fc6(x)\n",
    "        x = self.dropout6(x)\n",
    "        \n",
    "        x = self.fc7(x)\n",
    "        x = self.dropout7(x)\n",
    "        \n",
    "        x = self.fc8(x)\n",
    "        \n",
    "        final_x = self.final(x.reshape((-1)))\n",
    "        final_x = final_x*2 - 1\n",
    "        \n",
    "        return final_x\n"
   ]
  },
  {
   "cell_type": "code",
   "execution_count": 337,
   "metadata": {},
   "outputs": [],
   "source": [
    "model = AudioLSTMCNN(input_shape=(128, 196), out_size=2)\n",
    "model_c = model.cuda()"
   ]
  },
  {
   "cell_type": "code",
   "execution_count": 338,
   "metadata": {},
   "outputs": [],
   "source": [
    "criterion = nn.MSELoss().cuda()\n",
    "optimizer = torch.optim.Adam(model_c.parameters(), lr=0.0005)"
   ]
  },
  {
   "cell_type": "code",
   "execution_count": 339,
   "metadata": {},
   "outputs": [
    {
     "name": "stdout",
     "output_type": "stream",
     "text": [
      "torch.Size([128, 196])\n",
      "torch.Size([1, 1, 128, 196])\n"
     ]
    }
   ],
   "source": [
    "print(dataset[0][0].shape)\n",
    "print(dataset[0][0].reshape((1, 1, MEL_SPECTROGRAM_BUCKETS, -1)).shape)"
   ]
  },
  {
   "cell_type": "code",
   "execution_count": null,
   "metadata": {
    "scrolled": true
   },
   "outputs": [
    {
     "name": "stdout",
     "output_type": "stream",
     "text": [
      " 0- 500 | loss: 0.44808[0.15898]  [0.71208, 0.62379]\n",
      " 0-1000 | loss: 0.00429[0.15024]  [0.01639, 0.09120]\n",
      " 1- 500 | loss: 0.12248[0.14068]  [0.28392, 0.40540]\n",
      " 1-1000 | loss: 0.38468[0.14203]  [0.83565, 0.26658]\n",
      " 2- 500 | loss: 0.03934[0.13593]  [0.02590, 0.27931]\n",
      " 2-1000 | loss: 0.85922[0.14108]  [0.54851, 1.19062]\n",
      " 3- 500 | loss: 0.40041[0.13497]  [0.70479, 0.55145]\n",
      " 3-1000 | loss: 0.05098[0.14149]  [0.04990, 0.31539]\n",
      " 4- 500 | loss: 0.02826[0.13940]  [0.22079, 0.08815]\n",
      " 4-1000 | loss: 0.05310[0.14167]  [0.31051, 0.09886]\n",
      " 5- 500 | loss: 0.08229[0.13098]  [0.04878, 0.40275]\n",
      " 5-1000 | loss: 0.14729[0.13345]  [0.53459, 0.09374]\n",
      " 6- 500 | loss: 0.00638[0.12896]  [0.01253, 0.11223]\n",
      " 6-1000 | loss: 0.00446[0.13640]  [0.08927, 0.03081]\n",
      " 7- 500 | loss: 0.04750[0.13373]  [0.09767, 0.29233]\n",
      " 7-1000 | loss: 0.38526[0.13939]  [0.63255, 0.60860]\n",
      " 8- 500 | loss: 0.03783[0.13679]  [0.18061, 0.20745]\n",
      " 8-1000 | loss: 0.16314[0.12960]  [0.44817, 0.35416]\n",
      " 9- 500 | loss: 0.17557[0.13807]  [0.12161, 0.57996]\n",
      " 9-1000 | loss: 0.56802[0.13536]  [0.71097, 0.79407]\n",
      "10- 500 | loss: 0.31222[0.12925]  [0.24228, 0.75216]\n",
      "10-1000 | loss: 0.00018[0.13124]  [0.01911, 0.00217]\n",
      "11- 500 | loss: 0.29644[0.14322]  [0.76724, 0.06506]\n",
      "11-1000 | loss: 0.06867[0.14065]  [0.05142, 0.36700]\n",
      "12- 500 | loss: 0.05596[0.13674]  [0.26066, 0.20970]\n",
      "12-1000 | loss: 0.16193[0.13369]  [0.42818, 0.37486]\n",
      "13- 500 | loss: 0.01331[0.13373]  [0.12469, 0.10521]\n",
      "13-1000 | loss: 0.16369[0.12964]  [0.44940, 0.35416]\n",
      "14- 500 | loss: 0.02122[0.13276]  [0.03792, 0.20249]\n",
      "14-1000 | loss: 0.00472[0.13041]  [0.09255, 0.02974]\n",
      "15- 500 | loss: 0.01877[0.11914]  [0.16019, 0.10901]\n",
      "15-1000 | loss: 0.08190[0.13427]  [0.31366, 0.25577]\n",
      "16- 500 | loss: 0.00127[0.14599]  [0.02833, 0.04178]\n",
      "16-1000 | loss: 0.24970[0.13770]  [0.42426, 0.56515]\n",
      "17- 500 | loss: 0.44866[0.14571]  [0.53523, 0.78157]\n",
      "17-1000 | loss: 0.03830[0.13749]  [0.23395, 0.14788]\n",
      "18- 500 | loss: 0.06478[0.13059]  [0.29542, 0.20563]\n",
      "18-1000 | loss: 0.02417[0.12349]  [0.17311, 0.13552]\n",
      "19- 500 | loss: 0.02483[0.12936]  [0.15302, 0.16200]\n",
      "19-1000 | loss: 0.04348[0.12800]  [0.23312, 0.18058]\n",
      "20- 500 | loss: 0.11008[0.13574]  [0.36470, 0.29523]\n",
      "20-1000 | loss: 0.24791[0.13289]  [0.59014, 0.38412]\n",
      "21- 500 | loss: 0.02125[0.12273]  [0.17648, 0.10656]\n",
      "21-1000 | loss: 0.01422[0.12665]  [0.08129, 0.14777]\n",
      "22- 500 | loss: 0.13327[0.13133]  [0.32415, 0.40184]\n",
      "22-1000 | loss: 0.00176[0.13429]  [0.03983, 0.04404]\n"
     ]
    }
   ],
   "source": [
    "start_time = time.time()\n",
    "EPOCS = 100\n",
    "PRINT_MARK = 500\n",
    "BATCH_SIZE = 1001\n",
    "STOP_LOSS = 0.01\n",
    "\n",
    "\n",
    "for epoc in range(EPOCS):\n",
    "    losses = list()\n",
    "    train_sample = random.sample(trainset, BATCH_SIZE)\n",
    "    for batch_i, (X_train, (valence, arousal)) in enumerate(train_sample):\n",
    "        optimizer.zero_grad()\n",
    "        model.hidden = (torch.zeros(model.hidden[0].shape).cuda(),\n",
    "                        torch.zeros(model.hidden[0].shape).cuda())\n",
    "        \n",
    "        y_train = torch.Tensor((valence, arousal)).cuda()\n",
    "        # Apply the model\n",
    "        y_pred = model(X_train.cuda())  # we don't flatten X-train here\n",
    "        loss = criterion(y_pred, y_train)\n",
    "\n",
    "        # Update parameters\n",
    "        loss.backward(retain_graph=True)\n",
    "        optimizer.step()\n",
    "\n",
    "        losses.append(loss.cpu().item())\n",
    "        \n",
    "        # Print interim results\n",
    "        if batch_i > 0 and batch_i%PRINT_MARK == 0:\n",
    "            print(f'{epoc:2}-{batch_i:4} | loss: {loss.item():.5f}[{np.mean(losses):.5f}]  [{abs(y_train[0] - y_pred[0]):.5f}, {abs(y_train[1] - y_pred[1]):.5f}]')\n",
    "            if np.mean(losses) < STOP_LOSS:\n",
    "                break\n",
    "\n",
    "    if np.mean(losses) < STOP_LOSS:\n",
    "        break\n",
    "        \n",
    "print(f'\\nDuration: {time.time() - start_time:.0f} seconds') # print the time elapsed            "
   ]
  },
  {
   "cell_type": "markdown",
   "metadata": {},
   "source": [
    "## Test model"
   ]
  },
  {
   "cell_type": "code",
   "execution_count": 333,
   "metadata": {},
   "outputs": [
    {
     "name": "stderr",
     "output_type": "stream",
     "text": [
      "100%|███████████████████████████████████████████████████████████████████████████████████████████| 8909/8909 [00:32<00:00, 271.79it/s]\n"
     ]
    }
   ],
   "source": [
    "losses = list()\n",
    "\n",
    "with torch.no_grad():\n",
    "    for batch_i, (X_test, (valence, arousal)) in tqdm(enumerate(testset), total=len(testset)):\n",
    "        y_test = torch.Tensor((valence, arousal)).cuda()\n",
    "        # Apply the model\n",
    "        y_val = model(X_test.cuda())\n",
    "        loss = criterion(y_val, y_test)\n",
    "        losses.append(loss.cpu())"
   ]
  },
  {
   "cell_type": "code",
   "execution_count": 335,
   "metadata": {},
   "outputs": [
    {
     "name": "stdout",
     "output_type": "stream",
     "text": [
      "Mean: 0.19716, median: 0.11532\n"
     ]
    }
   ],
   "source": [
    "print(f\"Mean: {np.mean(losses):.5f}, median: {np.median(losses):.5f}\")"
   ]
  },
  {
   "cell_type": "code",
   "execution_count": 324,
   "metadata": {},
   "outputs": [
    {
     "name": "stdout",
     "output_type": "stream",
     "text": [
      "tensor([-0.1054, -0.0105], device='cuda:0', grad_fn=<SubBackward0>)\n",
      "(-0.14022500000000016, -0.37467499999999976)\n"
     ]
    }
   ],
   "source": [
    "test_index = 12\n",
    "print(model_c(testset[0][0].cuda()))\n",
    "print(testset[0][1])"
   ]
  },
  {
   "cell_type": "code",
   "execution_count": 264,
   "metadata": {},
   "outputs": [
    {
     "data": {
      "text/plain": [
       "tensor(0.3962, device='cuda:0', grad_fn=<MseLossBackward0>)"
      ]
     },
     "execution_count": 264,
     "metadata": {},
     "output_type": "execute_result"
    }
   ],
   "source": [
    "criterion(model_c(testset[0][0].cuda()), torch.Tensor(testset[0][1]).cuda())"
   ]
  },
  {
   "cell_type": "code",
   "execution_count": 308,
   "metadata": {},
   "outputs": [
    {
     "data": {
      "text/plain": [
       "tensor([-0.5271, -0.5102], device='cuda:0', grad_fn=<SubBackward0>)"
      ]
     },
     "execution_count": 308,
     "metadata": {},
     "output_type": "execute_result"
    }
   ],
   "source": [
    "model_c(testset[0][0].cuda())*2 - 1"
   ]
  },
  {
   "cell_type": "code",
   "execution_count": null,
   "metadata": {},
   "outputs": [],
   "source": []
  }
 ],
 "metadata": {
  "kernelspec": {
   "display_name": "aimpathy",
   "language": "python",
   "name": "aimpathy"
  },
  "language_info": {
   "codemirror_mode": {
    "name": "ipython",
    "version": 3
   },
   "file_extension": ".py",
   "mimetype": "text/x-python",
   "name": "python",
   "nbconvert_exporter": "python",
   "pygments_lexer": "ipython3",
   "version": "3.8.13"
  }
 },
 "nbformat": 4,
 "nbformat_minor": 4
}
